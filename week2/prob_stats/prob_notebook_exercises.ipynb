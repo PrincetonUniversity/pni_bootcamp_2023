{
 "cells": [
  {
   "cell_type": "markdown",
   "id": "581b3637",
   "metadata": {},
   "source": [
    "## Exercise\n",
    "\n",
    "Use the equation:\n",
    "\n",
    "\n",
    " $$p(y; x, w, g(\\cdot)) = \\frac{g(x, w)^y e ^{-g(x, w)}}{y!}$$\n",
    " \n",
    " To code up the proability mass function of a poisson distribution. \n",
    " \n",
    " Make sure it's output is the same the pmf of the poisson object from `scipy.stats`, that is\n",
    " \n",
    " `poisson_pmf(y, x, w) == poisson.pmf(y, mu=np.exp(x*w))` should evaluate to `True`\n",
    " \n",
    " The `math` library contains the factorial function you'll need."
   ]
  },
  {
   "cell_type": "code",
   "execution_count": null,
   "id": "3105c637",
   "metadata": {},
   "outputs": [],
   "source": [
    "from scipy.stats import poisson\n",
    "import math\n",
    "\n",
    "def poisson_pmf(y, x, w):\n",
    "    pass\n",
    "\n",
    "#below should evaluatte to True, if implemented correctly\n",
    "#np.isclose(poisson_pmf(10, 3, 3), poisson.pmf(10, mu=np.exp(3*3)), atol=0.001)"
   ]
  },
  {
   "cell_type": "markdown",
   "id": "08a6d786",
   "metadata": {},
   "source": [
    "# Exercise\n",
    "\n",
    "Repeat the previous exercise but now for a bernoulli distribution\n",
    "\n",
    "$$p(y; x, w, \\sigma(\\cdot)) = \\sigma(xw)^y \\big(1 - \\sigma(xw)\\big)^{1 - y}$$"
   ]
  },
  {
   "cell_type": "code",
   "execution_count": null,
   "id": "b517a87d",
   "metadata": {},
   "outputs": [],
   "source": [
    "from scipy.stats import bernoulli\n",
    "\n",
    "def bernoulli_pmf(y, x, w):\n",
    "    pass\n",
    "\n",
    "#below should evaluatte to True, if implemented correctly\n",
    "#np.isclose(bernoulli_pmf(1, 8, 0.6), bernoulli.pmf(1, expit(8*0.6)), atol=0.001)"
   ]
  }
 ],
 "metadata": {
  "kernelspec": {
   "display_name": "Python 3",
   "language": "python",
   "name": "python3"
  },
  "language_info": {
   "codemirror_mode": {
    "name": "ipython",
    "version": 3
   },
   "file_extension": ".py",
   "mimetype": "text/x-python",
   "name": "python",
   "nbconvert_exporter": "python",
   "pygments_lexer": "ipython3",
   "version": "3.8.5"
  }
 },
 "nbformat": 4,
 "nbformat_minor": 5
}
