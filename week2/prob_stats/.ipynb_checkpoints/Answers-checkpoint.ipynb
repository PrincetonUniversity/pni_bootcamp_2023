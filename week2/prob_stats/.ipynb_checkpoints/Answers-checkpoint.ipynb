{
 "cells": [
  {
   "cell_type": "code",
   "execution_count": 1,
   "id": "edd1377d",
   "metadata": {},
   "outputs": [],
   "source": [
    "def poisson_pmf(y, x, w, inv_link_fn):\n",
    "    mu = inv_link_fn(x*w)\n",
    "    \n",
    "    p = mu**y * np.exp(-mu) / math.factorial(y)\n",
    "    \n",
    "    return p"
   ]
  },
  {
   "cell_type": "code",
   "execution_count": null,
   "id": "76801406",
   "metadata": {},
   "outputs": [],
   "source": [
    "def bernoulli_pmf(y, x, w, inv_link_fn):\n",
    "    mu = inv_link_fn(x*w)\n",
    "    \n",
    "    p = mu**y * (1 - mu)**(1 - y)\n",
    "    \n",
    "    return p"
   ]
  },
  {
   "cell_type": "code",
   "execution_count": null,
   "id": "8fc5029f",
   "metadata": {},
   "outputs": [],
   "source": [
    "from scipy.stats import bernoulli\n",
    "import matplotlib.pyplot as plt\n",
    "\n",
    "def sample_bern(p, n):\n",
    "    return bernoulli(p=p).rvs(n)\n",
    "\n",
    "samps = sample_bern(0.3, 10000)\n",
    "\n",
    "plt.hist(samps)"
   ]
  },
  {
   "cell_type": "code",
   "execution_count": null,
   "id": "51dbadb8",
   "metadata": {},
   "outputs": [],
   "source": [
    "# code here\n",
    "liks = np.array([bernoulli(theta_j).pmf(data).prod() for theta_j in possible_thetas])\n",
    "liks_prior = np.array([bernoulli(theta_j).pmf(data).prod() * prior_water.pdf(theta_j) for theta_j in possible_thetas])"
   ]
  },
  {
   "cell_type": "code",
   "execution_count": null,
   "id": "499b2462",
   "metadata": {},
   "outputs": [],
   "source": [
    "plt.plot(possible_thetas, liks / liks.sum())\n",
    "plt.plot(possible_thetas, liks_prior / liks_prior.sum(), linestyle=\"--\")"
   ]
  }
 ],
 "metadata": {
  "kernelspec": {
   "display_name": "Python 3",
   "language": "python",
   "name": "python3"
  },
  "language_info": {
   "codemirror_mode": {
    "name": "ipython",
    "version": 3
   },
   "file_extension": ".py",
   "mimetype": "text/x-python",
   "name": "python",
   "nbconvert_exporter": "python",
   "pygments_lexer": "ipython3",
   "version": "3.8.5"
  }
 },
 "nbformat": 4,
 "nbformat_minor": 5
}
