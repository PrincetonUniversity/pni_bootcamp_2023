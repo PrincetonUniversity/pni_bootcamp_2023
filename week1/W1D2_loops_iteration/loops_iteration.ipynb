{
 "cells": [
  {
   "cell_type": "markdown",
   "metadata": {},
   "source": [
    "## Loops & Iteration\n",
    "We have now seen multiple examples of when it would be really handy to be able to repeat an operation, without having to type it out again and again.\n",
    "Most programming languages have special syntax just for doing this, called loops.\n",
    "Loops let us repeat an arbitrary operation some number of times. What do you think the cell below will output?"
   ]
  },
  {
   "cell_type": "code",
   "execution_count": null,
   "metadata": {},
   "outputs": [],
   "source": [
    "# the \"while\" word lets us loop until a condition is met, similar to an if-else.\n",
    "x = 0\n",
    "while x < 4:\n",
    "    print(x)\n",
    "    x += 1"
   ]
  },
  {
   "cell_type": "markdown",
   "metadata": {},
   "source": [
    "Don't forget to include those indentations below the while statement, that determines what all will be run on each iteration of the loop?\n",
    "The conditional in the while statement is just that, a normal boolean value. You can put anything there, not just a variable to track the iteration."
   ]
  },
  {
   "cell_type": "code",
   "execution_count": null,
   "metadata": {},
   "outputs": [],
   "source": [
    "x = [5, 7, 11]\n",
    "y = 20\n",
    "z = 3\n",
    "flag = False\n",
    "while not flag:\n",
    "    y += z\n",
    "    flag = (y//z in x)"
   ]
  },
  {
   "cell_type": "markdown",
   "metadata": {},
   "source": [
    "Some lessons to take from the above about why while loops aren't really that great. Just from a really quick glance at the code, can you tell me if it will definitely stop running at some point? Code that runs infinitely can be very problematic. For example, see below (you can hit interrupt up at the top to stop it)"
   ]
  },
  {
   "cell_type": "code",
   "execution_count": null,
   "metadata": {},
   "outputs": [],
   "source": [
    "the_depths_of_infinity = 0\n",
    "while True:\n",
    "    the_depths_of_infinity += 1"
   ]
  },
  {
   "cell_type": "markdown",
   "metadata": {},
   "source": [
    "Fortunately we can programmatically force the loop to stop. This can be useful when you are doing a lot of things in a loop but want it to stop at a **particular** moment, separate from the condition being checked."
   ]
  },
  {
   "cell_type": "code",
   "execution_count": null,
   "metadata": {},
   "outputs": [],
   "source": [
    "x = 1\n",
    "while True:\n",
    "    \n",
    "    if x % 2 == 0:\n",
    "        print('x is even')\n",
    "    else:\n",
    "        print('x is odd')\n",
    "\n",
    "    if x == 7:\n",
    "        break\n",
    "\n",
    "    print('x is not 7')\n",
    "\n",
    "    x += 1\n",
    "\n",
    "print('x is 7')"
   ]
  },
  {
   "cell_type": "markdown",
   "metadata": {},
   "source": [
    "In the code above, replacing the true with just x==7 wouldn't let you check if it is odd or even without writing more code.\n",
    "We can also make it not exit the loop and instead just skip to the next iteration. What do you think the cell below should do?"
   ]
  },
  {
   "cell_type": "code",
   "execution_count": null,
   "metadata": {},
   "outputs": [],
   "source": [
    "x = 1\n",
    "even_or_odd = ['odd', 'even']\n",
    "while x < 10:\n",
    "\n",
    "    if x == 6:\n",
    "        continue\n",
    "\n",
    "    print(f'{x} is {even_or_odd[int(x % 2 == 0)]}')\n",
    "\n",
    "    x += 1\n"
   ]
  },
  {
   "cell_type": "markdown",
   "metadata": {},
   "source": [
    "Ok, if you saw the issue coming then good job. If you're still not sure what went wrong, walk through each step of the code line by line and check what the value of x is, and what happens.\n",
    "Maybe you can see what can become the issue with break and continue.\n",
    "A separate issue, is that if your loop is really long and dense (and poorly organized/commented), it may not be quickly clear to you what makes the loop stop.\n",
    "This is why, in *general* it is not a great idea to use break statements. However, if your code is organized well and documented, there are cases where using them can be more readable.\n",
    "But personally I avoid them.\n",
    "\n",
    "So there are some problems, and occasionally good applications for while loops, namely when you don't know exactly how many times you want to loop. What is the alternative? for loops!"
   ]
  },
  {
   "cell_type": "code",
   "execution_count": null,
   "metadata": {},
   "outputs": [],
   "source": [
    "for x in range(4):\n",
    "    print(x)"
   ]
  },
  {
   "cell_type": "markdown",
   "metadata": {},
   "source": [
    "Much simpler than before! But what exactly is happening here? When we start a for loop with the \"for\" statement, python automatically requires you to also provide an iterable. An iterable, is anything that can be iterated over, and that means it has discrete elements with an order that can be looked at one at a time. Lists are the most common thing you will use for this. Here the range function returns an iterable object that contains the \"range\" of numbers from start to stop (excluding stop). By default, it starts at 0. so range(4) returns a range containing the numbers 0, 1, 2, and 3.\n",
    "\n",
    "We can also iterate over several things with this syntax:"
   ]
  },
  {
   "cell_type": "code",
   "execution_count": null,
   "metadata": {},
   "outputs": [],
   "source": [
    "l1 = [0,1,2]\n",
    "l2 = [2,1,0]\n",
    "for x,y in zip(l1,l2):\n",
    "    print(x,y)"
   ]
  },
  {
   "cell_type": "markdown",
   "metadata": {},
   "source": [
    "This is because the zip function takes multiple lists, and returns a new iterable with each corresponding element packaged together into a tuple. Notice that we also were being given the **values** of these lists automatically.\n",
    "In general there are two ways to loop through the elements of a list with a for loop:"
   ]
  },
  {
   "cell_type": "code",
   "execution_count": null,
   "metadata": {},
   "outputs": [],
   "source": [
    "nums = [4,2,7,4]\n",
    "for num in nums:\n",
    "    print(num, end='\\t')\n",
    "\n",
    "print('\\n-------------------------')\n",
    "for idx in range(len(nums)):\n",
    "    print(f'element {idx}: {nums[idx]}', end='\\t')"
   ]
  },
  {
   "cell_type": "markdown",
   "metadata": {},
   "source": [
    "Notice that the second has a distinct advantage, in that it naturally tracks what iteration we are on. In the first case, we could not track what number element each one is in the first case. But there **is** a function that combines these two options:"
   ]
  },
  {
   "cell_type": "code",
   "execution_count": null,
   "metadata": {},
   "outputs": [],
   "source": [
    "for idx, num in enumerate(nums):\n",
    "    print(f'element {idx}: {num}', end='\\t')"
   ]
  },
  {
   "cell_type": "markdown",
   "metadata": {},
   "source": [
    "enumerate behaves similarly to zip, but assumes the range is passed along with your list. ```enumerate(nums)``` is comparable to ```zip(range(len(nums)), nums)```\n",
    "Having this iteration number is very handy. You can use it to access corresponding elements in arbitrary numbers of other iterables, or inform the user what percentage of a task has been completed, etc...\n",
    "If you are running a simulation of some kind and want to trigger a specific operation at a certain point, then of course you need to track the iteration number.\n",
    "\n",
    "Okay! Technically, you now have all you need to know to solve differential equations! To practice writing loops and to foreshadow differential equations in week 3, let's code up a simple word problem.\n",
    "\n",
    "A ball rolls down a hill with a constant acceleration of 3.14159 m/s<sup>2</sup>. 50 meters before the bottom of the hill, it is travelling at 2.71828 m/s. How fast is it travelling when it reaches the bottom of the hill? Use a loop (which kind?) to simulate the ball's motion every 500 milliseconds. Also, create a list that tracks its position at each step of the loop, and print it at the end. At each step of the loop, print how long the ball has been rolling. Be sure to name your variables sensibly."
   ]
  },
  {
   "cell_type": "code",
   "execution_count": null,
   "metadata": {},
   "outputs": [],
   "source": [
    "acceleration = 3.14159 # m/s^2\n",
    "velocity = 2.71828 # m/s\n",
    "\n",
    "# insert code below\n"
   ]
  },
  {
   "cell_type": "markdown",
   "metadata": {},
   "source": [
    "One more practice problem. Let's say you have the two lists below, one containing the (x,y) positions of a bunch of imaged neurons and another containing their average firing rates.\n",
    "Create a new list called 'active_cells' that contains just the **positions** of the cells with firing rates more than 5. Print the list afterward."
   ]
  },
  {
   "cell_type": "code",
   "execution_count": null,
   "metadata": {},
   "outputs": [],
   "source": [
    "cell_positions = [(28,39), (42,28), (13,21), (64,30), (43,6), (18,18)]\n",
    "cell_firing_rates = [8, 2, 4, 12, 45, 9]\n",
    "\n",
    "# insert code below\n"
   ]
  },
  {
   "cell_type": "markdown",
   "metadata": {},
   "source": [
    "Alright, but what if there was a way to do all of that in one line?"
   ]
  },
  {
   "cell_type": "code",
   "execution_count": null,
   "metadata": {},
   "outputs": [],
   "source": []
  },
  {
   "cell_type": "markdown",
   "metadata": {},
   "source": [
    "This is a list comprehension, a special python syntax for creating a loop in-place by adding elements created at each step of a loop.\n",
    "List comprehensions can be really handy to make your code more concise and sometimes easier to read. But keep in mind some of the downsides as well.\n",
    "People often take list comprehensions too far (especially me) and write really long ones that become very difficult to understand.\n",
    "Also, if you are creating multiple lists based on another list this way, you end up looping more times than you need to, for example:"
   ]
  },
  {
   "cell_type": "code",
   "execution_count": null,
   "metadata": {},
   "outputs": [],
   "source": [
    "reference = [2,4,7,2,8,5,43]\n",
    "\n",
    "# list comprehensions\n",
    "evens = [num for num in reference if num % 2 == 0]\n",
    "multiples_of_four = [num for num in reference if num % 4 == 0]\n",
    "\n",
    "# as opposed to...\n",
    "evens = []\n",
    "multiples_of_four = []\n",
    "for num in reference:\n",
    "    if num % 4 == 0:\n",
    "        multiples_of_four.append(num)\n",
    "        evens.append(num)\n",
    "    elif num % 2 == 0:\n",
    "        evens.append(num)"
   ]
  },
  {
   "cell_type": "markdown",
   "metadata": {},
   "source": [
    "The former saved me some space, but we looped through reference twice. In the latter, we only loop through reference once. This doesn't matter so much for a tiny list like this one, but if you are looping through some large datasets, you can save runtime by trying to not redundantly loop through the same list over and over. Although, in general a single list comprehension is faster than a single for loop.\n",
    "\n",
    "List comprehensions can be quite powerful though, for example let's say you want to copy every element of a list a number of times equal to its value. Still one line of code!"
   ]
  },
  {
   "cell_type": "code",
   "execution_count": null,
   "metadata": {},
   "outputs": [],
   "source": [
    "to_copy = [2, 4, 1, 2, 8]\n",
    "print([num for num in to_copy for x in range(num)])"
   ]
  },
  {
   "cell_type": "markdown",
   "metadata": {},
   "source": [
    "So you can loop multiple times inside of a list comprehension. What this is doing is running the first for loop first, and then at each iteration running the second for loop fully. It is the same as the code below:"
   ]
  },
  {
   "cell_type": "code",
   "execution_count": null,
   "metadata": {},
   "outputs": [],
   "source": [
    "copied_vals = []\n",
    "for num in to_copy:\n",
    "    for x in range(num):\n",
    "        copied_vals.append(num)\n",
    "print(copied_vals)"
   ]
  },
  {
   "cell_type": "markdown",
   "metadata": {},
   "source": [
    "There are some kind of annoying syntax rules to keep in mind for list comprehensions. If you want to do an if **and** an else, it has to come before the loop. But it's just an if then it comes after the loop."
   ]
  },
  {
   "cell_type": "code",
   "execution_count": null,
   "metadata": {},
   "outputs": [],
   "source": [
    "reference = [2,4,7,2,8,5,43]\n",
    "\n",
    "print([num for num in reference if num % 2 == 0])\n",
    "print([num if num % 2 == 0 else 0 for num in reference])"
   ]
  },
  {
   "cell_type": "markdown",
   "metadata": {},
   "source": [
    "You can also nest list comprehensions inside themselves."
   ]
  },
  {
   "cell_type": "code",
   "execution_count": null,
   "metadata": {},
   "outputs": [],
   "source": [
    "sample = [2, 4, 1, 2, 8]\n",
    "print([num for num in sample if False in [True if num % x == 0 else False for x in sample]])"
   ]
  },
  {
   "cell_type": "markdown",
   "metadata": {},
   "source": [
    "Just don't go too crazy with list comprehensions."
   ]
  },
  {
   "cell_type": "code",
   "execution_count": null,
   "metadata": {},
   "outputs": [],
   "source": [
    "numbers = [1,4,7,2,7,4,8,9,3]\n",
    "\n",
    "something = [x if y < z else z for w in numbers for z in range(w) for y in range(z) for x in range(y) if w % z == 0]\n",
    "print(something)\n",
    "\n",
    "# this did... something?"
   ]
  },
  {
   "cell_type": "markdown",
   "metadata": {},
   "source": [
    "Speaking of nesting for loops, this can be a handy way to look through lists of lists."
   ]
  },
  {
   "cell_type": "code",
   "execution_count": null,
   "metadata": {},
   "outputs": [],
   "source": [
    "nested_list = [[0,1], [2,3], [4,5], [6,7]]\n",
    "\n",
    "for inner_list in nested_list:\n",
    "    for val in inner_list:\n",
    "        print(val)"
   ]
  },
  {
   "cell_type": "markdown",
   "metadata": {},
   "source": [
    "What about looping through a dict?"
   ]
  },
  {
   "cell_type": "code",
   "execution_count": null,
   "metadata": {},
   "outputs": [],
   "source": [
    "sample_dict = {'first': 'who', 'second': 'what', 'third': \"I don't know\"}\n",
    "\n",
    "for x in sample_dict:\n",
    "    print(x)\n",
    "\n",
    "print('----------------')\n",
    "for x in sample_dict.keys():\n",
    "    print(x)\n",
    "\n",
    "print('----------------')\n",
    "for x in sample_dict.values():\n",
    "    print(x)\n",
    "\n",
    "print('----------------')\n",
    "for x,y in sample_dict.items():\n",
    "    print(x,y)"
   ]
  },
  {
   "cell_type": "markdown",
   "metadata": {},
   "source": [
    "By the way, if anyone is confused by the x,y syntax we keep using, it's not specific to loops. You can set multiple variables at once anytime you are returning multiple values on the right side of an equal sign. Or you can also set a number of variables to be equal at once:"
   ]
  },
  {
   "cell_type": "code",
   "execution_count": null,
   "metadata": {},
   "outputs": [],
   "source": [
    "x, y = 5, 3\n",
    "print(x,y)\n",
    "\n",
    "x, y, z = (5,)*3\n",
    "print(x,y,z)\n",
    "\n",
    "x = y = z = 4\n",
    "print(x,y,z)"
   ]
  },
  {
   "cell_type": "markdown",
   "metadata": {},
   "source": [
    "Okay that should be all you need to know to do the exercises! You can find them in the same directory of the git repository as this one."
   ]
  }
 ],
 "metadata": {
  "kernelspec": {
   "display_name": "Python 3",
   "language": "python",
   "name": "python3"
  },
  "language_info": {
   "codemirror_mode": {
    "name": "ipython",
    "version": 3
   },
   "file_extension": ".py",
   "mimetype": "text/x-python",
   "name": "python",
   "nbconvert_exporter": "python",
   "pygments_lexer": "ipython3",
   "version": "3.9.7"
  },
  "orig_nbformat": 4
 },
 "nbformat": 4,
 "nbformat_minor": 2
}
