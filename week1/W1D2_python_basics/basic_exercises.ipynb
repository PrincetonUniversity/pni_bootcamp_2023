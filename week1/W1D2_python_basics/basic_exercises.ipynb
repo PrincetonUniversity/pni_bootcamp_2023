{
 "cells": [
  {
   "attachments": {},
   "cell_type": "markdown",
   "metadata": {},
   "source": [
    "Add the numbers 230, 567, 778, and 1. Save the result to a variable and print its value.\n",
    "\n",
    "Then overwrite it as a string containing your favorite number."
   ]
  },
  {
   "cell_type": "code",
   "execution_count": null,
   "metadata": {},
   "outputs": [],
   "source": []
  },
  {
   "attachments": {},
   "cell_type": "markdown",
   "metadata": {},
   "source": [
    "Create a variable with the value '5' and convert it to an int. Print it's value.\n",
    "\n",
    "Then overwrite it as a string containing your favorite ice cream flavor."
   ]
  },
  {
   "cell_type": "code",
   "execution_count": null,
   "metadata": {},
   "outputs": [],
   "source": []
  },
  {
   "attachments": {},
   "cell_type": "markdown",
   "metadata": {},
   "source": [
    "Create a variable containing the value of 2784 divided by 23. Print it's value.\n",
    "\n",
    "Then overwrite it as a string containing your favorite region of the brain."
   ]
  },
  {
   "cell_type": "code",
   "execution_count": null,
   "metadata": {},
   "outputs": [],
   "source": []
  },
  {
   "attachments": {},
   "cell_type": "markdown",
   "metadata": {},
   "source": [
    "Create a variable containing the value of 23 raised to the 4th power. Print it's remainder when divided by 4, without saving it to your variable.\n",
    "\n",
    "Overwrite your variable as a string containing what you like to do in your spare time."
   ]
  },
  {
   "cell_type": "code",
   "execution_count": null,
   "metadata": {},
   "outputs": [],
   "source": []
  },
  {
   "attachments": {},
   "cell_type": "markdown",
   "metadata": {},
   "source": [
    "Create two variables, one 21 multiplied by 17 and the other containing 28403 divided by 80. Set another variable equal to whichever number is larger by using the max function, and print it's value.\n",
    "\n",
    "Overwrite that variable as a string containing what neuroscience skill you most want to learn."
   ]
  },
  {
   "cell_type": "code",
   "execution_count": null,
   "metadata": {},
   "outputs": [],
   "source": []
  },
  {
   "attachments": {},
   "cell_type": "markdown",
   "metadata": {},
   "source": [
    "Using the last variable you made, make every letter uppercase and print the result."
   ]
  },
  {
   "cell_type": "code",
   "execution_count": null,
   "metadata": {},
   "outputs": [],
   "source": []
  },
  {
   "attachments": {},
   "cell_type": "markdown",
   "metadata": {},
   "source": [
    "Count how many times the letter \"E\" appears in that string and print the result."
   ]
  },
  {
   "cell_type": "code",
   "execution_count": null,
   "metadata": {},
   "outputs": [],
   "source": []
  },
  {
   "attachments": {},
   "cell_type": "markdown",
   "metadata": {},
   "source": [
    "Overwrite the variable with the same string but with every letter \"E\" replaced with \"O\" and then every letter \"A\" replaced with \"E\" and print the result."
   ]
  },
  {
   "cell_type": "code",
   "execution_count": null,
   "metadata": {},
   "outputs": [],
   "source": []
  },
  {
   "attachments": {},
   "cell_type": "markdown",
   "metadata": {},
   "source": [
    "Concatenate the string 'in neurons' concatenated to the end of your variable by using f string formatting. Return every letter to lowercase and print the result."
   ]
  },
  {
   "cell_type": "code",
   "execution_count": null,
   "metadata": {},
   "outputs": [],
   "source": []
  },
  {
   "attachments": {},
   "cell_type": "markdown",
   "metadata": {},
   "source": [
    "Create new variables with the following prompts concatenated to your variables from throughout this notebook. HOWEVER, feel free to mix and match them however you want. Each should then be printed on its own line."
   ]
  },
  {
   "cell_type": "code",
   "execution_count": null,
   "metadata": {},
   "outputs": [],
   "source": [
    "# \"My favorite number is \"\n",
    "# \"My favorite ice cream flavor is \"\n",
    "# \"My favorite region of the brain is \"\n",
    "# \"In my spare time I like to \"\n",
    "# \"At princeton I most want to learn how to \""
   ]
  },
  {
   "attachments": {},
   "cell_type": "markdown",
   "metadata": {},
   "source": [
    "Using the variables you just created, use an if/else to check each one to see if their length is even or odd. If it is even then print its length. If it is odd then check if it contains the string \"uncus\". If so, print the string \"YES\" otherwise print the string \"my favorite region of the brain is the uncus.\""
   ]
  },
  {
   "cell_type": "code",
   "execution_count": null,
   "metadata": {},
   "outputs": [],
   "source": []
  },
  {
   "attachments": {},
   "cell_type": "markdown",
   "metadata": {},
   "source": [
    "Notice how you were performing the same operation on a sequence of similar variables? If only there was some way to organise these variables and do this computation more easily and concisely... more on this to come."
   ]
  }
 ],
 "metadata": {
  "kernelspec": {
   "display_name": "Python 3",
   "language": "python",
   "name": "python3"
  },
  "language_info": {
   "codemirror_mode": {
    "name": "ipython",
    "version": 3
   },
   "file_extension": ".py",
   "mimetype": "text/x-python",
   "name": "python",
   "nbconvert_exporter": "python",
   "pygments_lexer": "ipython3",
   "version": "3.9.7"
  },
  "orig_nbformat": 4
 },
 "nbformat": 4,
 "nbformat_minor": 2
}
