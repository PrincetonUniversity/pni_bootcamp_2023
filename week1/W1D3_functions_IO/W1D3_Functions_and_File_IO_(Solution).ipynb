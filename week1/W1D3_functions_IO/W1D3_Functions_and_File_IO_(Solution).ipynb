{
  "cells": [
    {
      "cell_type": "markdown",
      "metadata": {
        "id": "IF7u7bN3jALX"
      },
      "source": [
        "## Bootcamp 2023 W1D3 - Functions and FILE IO\n",
        "\n",
        "This notebook covers the basic construction of python functions and file IO"
      ]
    },
    {
      "cell_type": "markdown",
      "metadata": {
        "id": "vbsjhlVvj_l_"
      },
      "source": [
        "## Try writing functions with the annotation format to increase readability: \n",
        "## `variable: type, variable: type, ... -> return_type`\n",
        "\n",
        "## Exercise 1"
      ]
    },
    {
      "cell_type": "markdown",
      "metadata": {
        "id": "LlwdGb1LkBcl"
      },
      "source": [
        "### a) Write a function `my_first_function` that returns the string \"Hello World!\" with no input\n",
        "\n",
        "### b) Write a function `custom_hello` that returns the string \"Hello World, [name]!\" with an input variable `name` that customises the output string.\n",
        "\n",
        "### c) Write a function `default_hello` that returns the string \"Hello World, PNI!\" with a default argument `name` set as \"PNI\""
      ]
    },
    {
      "cell_type": "code",
      "execution_count": 1,
      "metadata": {
        "id": "2TuRBIgZg6XU"
      },
      "outputs": [],
      "source": [
        "### a) Your code starts here\n",
        "def my_first_function():\n",
        "  return \"Hello World!\"\n",
        "\n",
        "### b) Your code starts here\n",
        "def custom_hello(name: str):\n",
        "  return f\"Hello World, {name}!\"\n",
        "\n",
        "### c) your code starts here\n",
        "def default_hello(name: str = \"PNI\"):\n",
        "  return f'Hello World, {name}!'"
      ]
    },
    {
      "cell_type": "markdown",
      "metadata": {
        "id": "iWT3xlIok70z"
      },
      "source": [
        "#### Hidden tests"
      ]
    },
    {
      "cell_type": "code",
      "execution_count": 2,
      "metadata": {
        "id": "6aB51nRgk4eG"
      },
      "outputs": [],
      "source": [
        "assert my_first_function() == \"Hello World!\", \"Test for exercise 1a failed\"\n",
        "assert custom_hello(\"abc\") == \"Hello World, abc!\", \"Test for exercise 1b failed\"\n",
        "assert default_hello() == \"Hello World, PNI!\", \"Test for exercise 1c failed\"\n",
        "assert default_hello(\"abc\") == \"Hello World, abc!\", \"Test for exercise 1c failed\""
      ]
    },
    {
      "cell_type": "markdown",
      "metadata": {
        "id": "8JYnBPv-lOUx"
      },
      "source": [
        "Differences between positional and keyword arguments, and *args\n",
        "\n",
        "### d) Write a function `function_1d` that takes in three variables: `a`, `b`, and `c` and outputs `a * b + c`. Run the function with the call `function_1d(a = 3, b = 1, c = 2)`, compare it with the call `function_1d(c = 2, a = 3, b =1)`\n",
        "\n",
        "### e) Try running `function_1d(2, 3, 1)`, what is the difference? How can you return the right result?\n",
        "\n",
        "### f) Write a function `infinite_sum` that takes in all variables in a function call and output the sum of all inputs. Try with the function call `infinite_sum(0, 1, 2)` and `infinite_sum(1, 10, 2, 9, 3, 8)`"
      ]
    },
    {
      "cell_type": "code",
      "execution_count": 3,
      "metadata": {
        "colab": {
          "base_uri": "https://localhost:8080/"
        },
        "id": "Ip9-Y59clM83",
        "outputId": "c2ab6d21-8dd3-4e09-891d-36e297ec3400"
      },
      "outputs": [
        {
          "name": "stdout",
          "output_type": "stream",
          "text": [
            "5\n",
            "5\n",
            "7\n",
            "5\n",
            "3\n",
            "33\n"
          ]
        }
      ],
      "source": [
        "### d) Your code starts here\n",
        "def function_1d(a, b, c):\n",
        "  return a * b + c\n",
        "\n",
        "print(function_1d(a = 3, b = 1, c = 2))\n",
        "print(function_1d(c = 2, a = 3, b = 1))\n",
        "\n",
        "### e) Your code starts here\n",
        "print(function_1d(2, 3, 1))\n",
        "print(function_1d(3, 1, 2))\n",
        "\n",
        "### f) Your code starts here\n",
        "def infinite_sum(*args):\n",
        "  sum = 0\n",
        "  for i in args:\n",
        "    sum += i\n",
        "  return sum\n",
        "\n",
        "print(infinite_sum(0, 1, 2))\n",
        "print(infinite_sum(1, 10, 2, 9, 3, 8))"
      ]
    },
    {
      "cell_type": "markdown",
      "metadata": {
        "id": "aQNE9QEPpYHh"
      },
      "source": [
        "#### Hidden tests"
      ]
    },
    {
      "cell_type": "code",
      "execution_count": 4,
      "metadata": {
        "id": "NrbmpflDpal4"
      },
      "outputs": [],
      "source": [
        "assert function_1d(a = 3, b = 1, c = 2) == 5, \"Test for exercise 1d failed\"\n",
        "assert infinite_sum(1, 10, 2, 9, 3, 8) == 33, \"Test for exercise 1e failed\""
      ]
    },
    {
      "cell_type": "markdown",
      "metadata": {
        "id": "tQxsHmb2pqlM"
      },
      "source": [
        "### g) Write a function `palindrome(input_str)` that determines whether the input string is a palindrome. The output should be a boolean value of True or False. Examples include: \"radar\", \"1234321\"\n",
        "\n",
        "### h) Write a function `palindrome_sum(input_str)` that returns the sum of a palindrome number. if the input is not integer, return \"Try again with an integer\", if the input is not palindrome, return \"Try again with a palindrome number!\"\n",
        "\n",
        "### i) We briefly talked about recursion during lecture. Try to write a function `fibonacci(n)` where the nth fibonacci number is returned. You can read more about fibonacci number [here](https://www.wikiwand.com/en/Fibonacci_sequence)"
      ]
    },
    {
      "cell_type": "code",
      "execution_count": 5,
      "metadata": {
        "id": "jpuyBZA7rLwH"
      },
      "outputs": [],
      "source": [
        "### g) Your code starts here\n",
        "def is_palindrome(input_str: str) -> bool:\n",
        "  mid_point = len(input_str) // 2\n",
        "  for i in range(mid_point):\n",
        "    if input_str[i] != input_str[-(i + 1)]:\n",
        "      return False\n",
        "  return True\n",
        "\n",
        "### h) Your code starts here\n",
        "def palindrome_sum(input_str: str) -> int or str:\n",
        "  try:\n",
        "    test_int = int(input_str)\n",
        "  except:\n",
        "    return \"Try again with an integer!\"\n",
        "\n",
        "  if is_palindrome(input_str):\n",
        "    out_sum = 0\n",
        "    for i in input_str:\n",
        "      out_sum += int(i)\n",
        "    return out_sum\n",
        "  else:\n",
        "    return \"Try again with a palindrome number!\"\n",
        "\n",
        "### i) Your code starts here\n",
        "def fibonacci(n: int) -> int:\n",
        "  if n < 2:\n",
        "    return n\n",
        "  else:\n",
        "    return fibonacci(n - 1) + fibonacci(n - 2)"
      ]
    },
    {
      "cell_type": "markdown",
      "metadata": {
        "id": "5g8wL2aTwNDP"
      },
      "source": [
        "#### Hidden tests"
      ]
    },
    {
      "cell_type": "code",
      "execution_count": 6,
      "metadata": {
        "id": "xC3nE_FxtDLy"
      },
      "outputs": [],
      "source": [
        "assert is_palindrome(\"radar\"), \"Test for exercise 1g failed\"\n",
        "assert not is_palindrome(\"123\"), \"Test for exercise 1g failed\"\n",
        "\n",
        "assert palindrome_sum(\"12321\") == 9, \"Test for exercise 1h failed\"\n",
        "assert palindrome_sum(\"abc\") == \"Try again with an integer!\", \"Test for exercise 1h failed\"\n",
        "assert palindrome_sum(\"123\") == \"Try again with a palindrome number!\", \"Test for exercise 1h failed\"\n",
        "\n",
        "assert fibonacci(10) == 55, \"Test for exercise 1i failed\""
      ]
    },
    {
      "cell_type": "markdown",
      "metadata": {
        "id": "lx6FVrNDwS1H"
      },
      "source": [
        "### j) Write a lambda function `square_func` that automatically return the square of the input and try `square_func(5)`\n",
        "\n",
        "### k) As discussed in the lecture, lambda fucntions are very useful to be used with `map` function, try to write a lambda function `to_percent` that changes a decimal (0.7) to a percentage (70%). Apply this function to every element in the list `list_1k` , save the result in `list_1k_percentage`, and print out the result"
      ]
    },
    {
      "cell_type": "code",
      "execution_count": 7,
      "metadata": {
        "colab": {
          "base_uri": "https://localhost:8080/"
        },
        "id": "2lX_XGzswSEz",
        "outputId": "fa4a14cb-e2bb-4c61-9296-1588496d93b7"
      },
      "outputs": [
        {
          "data": {
            "text/plain": [
              "[5.0, 70.0, 80.0, 12.0, 40.0, 99.0]"
            ]
          },
          "execution_count": 7,
          "metadata": {},
          "output_type": "execute_result"
        }
      ],
      "source": [
        "### j) Your code starts here\n",
        "\n",
        "square_func = lambda x: x**2\n",
        "square_func(5)\n",
        "\n",
        "### k) Your code starts here\n",
        "list_1k = [.05, .7, .8, .12, .4, .99]\n",
        "\n",
        "to_percent = lambda x: x * 100\n",
        "list_1k_percentage = list(map(to_percent, list_1k))\n",
        "\n",
        "list_1k_percentage"
      ]
    },
    {
      "cell_type": "markdown",
      "metadata": {
        "id": "4c4Lvp7oTEZ1"
      },
      "source": [
        "#### Hidden tests"
      ]
    },
    {
      "cell_type": "code",
      "execution_count": 8,
      "metadata": {
        "id": "B2KauOcfTDe4"
      },
      "outputs": [],
      "source": [
        "assert square_func(5) == 25, \"Test for exercise 1j failed\"\n",
        "assert list_1k_percentage == [5.0, 70.0, 80.0, 12.0, 40.0, 99.0], \"Test for exercise 1k failed\""
      ]
    },
    {
      "cell_type": "markdown",
      "metadata": {
        "id": "CtHNsqAvTa46"
      },
      "source": [
        "## Exercise 2: File IO\n",
        "\n",
        "Download the files from [here](https://www.ssa.gov/oact/babynames/names.zip) using `!wget` (for linux/ mac), unzip the files and put the files in the same directory. You can also just download the files manually and put them in the same directory as this notebook.\n",
        "\n",
        "read more about using command lines on python here: http://ipython.readthedocs.io/en/stable/interactive/magics.html#magic-system"
      ]
    },
    {
      "cell_type": "markdown",
      "metadata": {
        "id": "VYQQHOkoTfky"
      },
      "source": [
        "### a) Read in the file `yob1900.txt` and print out its first line, confirm that is starts with `Mary`. Read all lines and store it in `names_1900`. Inspect he variable and understand what is the structure of the file. Describe what each column represents.\n",
        "\n",
        "### b) Write a new row into the file `yob1900.txt`. You can customise what the row contains, but try to stay the same format as the other rows. Read the file again and confirm that your new row is there."
      ]
    },
    {
      "cell_type": "code",
      "execution_count": 9,
      "metadata": {
        "id": "chm2e7rhTe0Y"
      },
      "outputs": [
        {
          "name": "stdout",
          "output_type": "stream",
          "text": [
            "Mary,F,13136\n",
            "\n",
            "['Dexter,M,1\\n', 'Dexter,M,1\\n']\n"
          ]
        }
      ],
      "source": [
        "# !wget https://www.ssa.gov/oact/babynames/names.zip\n",
        "\n",
        "data_path = 'names/yob1901.txt'\n",
        "\n",
        "### a) Your code starts here\n",
        "with open(data_path, 'r') as f:\n",
        "    print(f.readline())\n",
        "\n",
        "with open(data_path, 'r') as f:\n",
        "    names_1900 = f.readlines()\n",
        "\n",
        "### b) Your code starts here\n",
        "with open(data_path, 'a') as f:\n",
        "    f.write('Dexter,M,1\\n')\n",
        "\n",
        "with open(data_path, 'r') as f:\n",
        "    print(f.readlines()[-2:])"
      ]
    },
    {
      "cell_type": "markdown",
      "metadata": {},
      "source": [
        "### c) Write a function `read_text` that does the following: given a string `year`, the function reads in the corresponding file and returns three lists: `names`, `genders`, and `counts`. For example, `read_text('2011')` should return the lists `['Jacob', 'Isabella', ...]`, `['M', 'F', ...]`, and `[20331, 22222, ...]`. (Hint: you can use the `split` method to split a string into a list of strings. For example, `'a b c'.split(' ')` returns `['a', 'b', 'c']`.) Try calling your function with different year to make sure it works.\n",
        "\n",
        "### d) Write a function `mean` that takes a list of numbers and returns the mean of the numbers. For example, `mean([1, 2, 3])` should return `2.0`. (Hint: you can use the `sum` function to sum up all the numbers in a list. For example, `sum([1, 2, 3])` returns `6`.)\n",
        "\n",
        "### e) Write a function `median` that takes a list of numbers and returns the median of the numbers. For example, `median([1, 2, 3])` should return `2.0`. (Hint: you can use the `sorted` function to sort a list. For example, `sorted([3, 2, 1])` returns `[1, 2, 3]`.)"
      ]
    },
    {
      "cell_type": "code",
      "execution_count": 10,
      "metadata": {},
      "outputs": [],
      "source": [
        "### c) Your code starts here\n",
        "def read_text(year):\n",
        "    \"\"\"\n",
        "    This function reads the text file of the given year and returns a list of strings.\n",
        "    \"\"\"\n",
        "    name_list = []\n",
        "    gender_list = []\n",
        "    count_list = []\n",
        "    with open(f'names/yob{year}.txt', 'r') as f:\n",
        "        text = f.readlines()\n",
        "\n",
        "    for line in text:\n",
        "        split_line = line.split(',')\n",
        "        name_list.append(split_line[0])\n",
        "        gender_list.append(split_line[1])\n",
        "        count_list.append(int(split_line[2].strip()))\n",
        "    return name_list, gender_list, count_list\n",
        "\n",
        "name_list, gender_list, count_list = read_text('1901')\n",
        "\n",
        "### d) Your code starts here\n",
        "def mean(in_list: list) -> float:\n",
        "    \"\"\"\n",
        "    This function takes a list of numbers and returns the mean.\n",
        "    \"\"\"\n",
        "    return sum(in_list) / len(in_list)\n",
        "\n",
        "mean([1, 2, 3])\n",
        "\n",
        "### e) Your code starts here\n",
        "def median(in_list: list):\n",
        "    \"\"\"\n",
        "    This function takes a list of numbers and returns the median.\n",
        "    \"\"\"\n",
        "    in_list.sort()\n",
        "    if len(in_list) % 2 == 0:\n",
        "        return (in_list[len(in_list) // 2 - 1] + in_list[len(in_list) // 2]) / 2\n",
        "    else:\n",
        "        return in_list[len(in_list) // 2]"
      ]
    },
    {
      "cell_type": "markdown",
      "metadata": {},
      "source": [
        "#### Hidden tests"
      ]
    },
    {
      "cell_type": "code",
      "execution_count": 11,
      "metadata": {},
      "outputs": [],
      "source": [
        "assert mean([1, 2, 3, 4, 5]) == 3.0, \"Test for exercise 2d failed\"\n",
        "assert median([1, 2, 3]) == 2, \"Test for exercise 2e failed\""
      ]
    },
    {
      "cell_type": "markdown",
      "metadata": {},
      "source": [
        "### "
      ]
    },
    {
      "cell_type": "markdown",
      "metadata": {},
      "source": [
        "### f) Write a function `qualitative_summary` that takes in the list of `names`, `genders`, `counts`, and `n` and output the `n` most popular names for each gender in the format: `Rank. Female Name: Count, Male Name: Count`\n",
        "\n",
        "Tips: the file is already sorted!\n",
        "\n",
        "### g) Write a function `quantitative_summary` that akes in the list `names`, `genders`, and `counts` and output the mean, median, max, min of names for each gender in the format:\n",
        "\n",
        "`Female: Mean Count, Median Count, Max name, Min name`\n",
        "\n",
        "`Male: Mean Count, Median Count, Max name, Min name`"
      ]
    },
    {
      "cell_type": "code",
      "execution_count": 12,
      "metadata": {},
      "outputs": [
        {
          "name": "stdout",
          "output_type": "stream",
          "text": [
            "1. Mary: 13136; John: 6900\n",
            "2. Helen: 5247; William: 5990\n",
            "3. Anna: 4923; James: 4735\n",
            "4. Margaret: 4424; George: 3609\n",
            "5. Ruth: 3974; Charles: 3049\n",
            "Female: 123.18, 12, Mary, Zuma\n",
            "Male: 87.85, 12.0, John, Dexter\n"
          ]
        }
      ],
      "source": [
        "### f) Your code starts here\n",
        "\n",
        "def qualitative_summary(names: list, genders: list, counts: list, n: int):\n",
        "    m_idx_start = genders.index(\"M\")\n",
        "    for i in range(n):\n",
        "        print(f\"{i+1}. {names[i]}: {counts[i]}; {names[m_idx_start+i]}: {counts[m_idx_start+i]}\")\n",
        "    return \n",
        "\n",
        "qualitative_summary(name_list, gender_list, count_list, 5)\n",
        "\n",
        "### g) Your code starts here\n",
        "def quantitative_summary(names: list, genders: list, counts: list):\n",
        "    m_idx_start = genders.index(\"M\")\n",
        "    \n",
        "    f_names = names[:m_idx_start]\n",
        "    f_counts = counts[:m_idx_start]\n",
        "    \n",
        "    m_names = names[m_idx_start:]\n",
        "    m_counts = counts[m_idx_start:]\n",
        "\n",
        "    print(f\"Female: {mean(f_counts) :.2f}, {median(f_counts)}, {f_names[0]}, {f_names[-1]}\")\n",
        "    print(f\"Male: {mean(m_counts) :.2f}, {median(m_counts)}, {m_names[0]}, {m_names[-1]}\")\n",
        "\n",
        "quantitative_summary(name_list, gender_list, count_list)"
      ]
    },
    {
      "cell_type": "markdown",
      "metadata": {},
      "source": [
        "### h) try to put all the functions into a separate file called my_module.py and call them from there. Make sure you have my_module.py in the same folder as your notebook. You can import the module by using import my_module. You can call the functions by using my_module.my_function(). Try to do the following pipleine: read in all the data from 2000, print out the top 10 names and quantitatve summary.\n",
        "\n",
        "\n",
        "### i) Try comparing qualitatively and quantitatively the distribution of names across 10 years. What are the interesting changes/ commonalities?"
      ]
    },
    {
      "cell_type": "code",
      "execution_count": 17,
      "metadata": {},
      "outputs": [
        {
          "name": "stdout",
          "output_type": "stream",
          "text": [
            "1. Emily: 25957; Jacob: 34490\n",
            "2. Hannah: 23085; Michael: 32042\n",
            "3. Madison: 19968; Matthew: 28576\n",
            "4. Ashley: 17998; Joshua: 27538\n",
            "5. Sarah: 17712; Christopher: 24936\n",
            "6. Alexis: 17631; Nicholas: 24653\n",
            "7. Samantha: 17265; Andrew: 23654\n",
            "8. Jessica: 15711; Joseph: 22842\n",
            "9. Elizabeth: 15113; Daniel: 22334\n",
            "10. Taylor: 15079; Tyler: 21505\n",
            "Female: 102.83, 11.0, Emily, Zyra\n",
            "Male: 162.06, 11.0, Jacob, Zyier\n",
            "1990\n",
            "1. Jessica: 46478; Michael: 65306\n",
            "2. Ashley: 45561; Christopher: 52353\n",
            "3. Brittany: 36536; Matthew: 44817\n",
            "4. Amanda: 34413; Joshua: 43226\n",
            "5. Samantha: 25868; Daniel: 33827\n",
            "Female: 124.62, 11.0, Jessica, Zlata\n",
            "Male: 216.52, 11, Michael, Zvi\n",
            "\n",
            "1991\n",
            "1. Ashley: 43480; Michael: 60799\n",
            "2. Jessica: 43397; Christopher: 47108\n",
            "3. Brittany: 29090; Matthew: 41644\n",
            "4. Amanda: 28895; Joshua: 41225\n",
            "5. Samantha: 25647; Andrew: 31542\n",
            "Female: 121.23, 11.0, Ashley, Zury\n",
            "Male: 209.40, 11, Michael, Zuhair\n",
            "\n",
            "1992\n",
            "1. Ashley: 38458; Michael: 54399\n",
            "2. Jessica: 38360; Christopher: 42465\n",
            "3. Amanda: 25037; Matthew: 37734\n",
            "4. Brittany: 24982; Joshua: 36217\n",
            "5. Sarah: 24636; Andrew: 30538\n",
            "Female: 118.10, 11, Ashley, Zykeia\n",
            "Male: 203.40, 11, Michael, Zyair\n",
            "\n",
            "1993\n",
            "1. Jessica: 34990; Michael: 49564\n",
            "2. Ashley: 34850; Christopher: 38236\n",
            "3. Sarah: 24254; Matthew: 35773\n",
            "4. Samantha: 23668; Joshua: 33586\n",
            "5. Emily: 23592; Tyler: 29799\n",
            "Female: 114.50, 11, Jessica, Zyanya\n",
            "Male: 192.85, 11, Michael, Zvi\n",
            "\n",
            "1994\n",
            "1. Jessica: 32122; Michael: 44470\n",
            "2. Ashley: 30282; Christopher: 34804\n",
            "3. Emily: 24151; Matthew: 33653\n",
            "4. Samantha: 22822; Joshua: 31372\n",
            "5. Sarah: 22295; Tyler: 30482\n",
            "Female: 113.34, 11.0, Jessica, Zyanya\n",
            "Male: 188.59, 11, Michael, Zuhair\n",
            "\n",
            "1995\n",
            "1. Jessica: 27939; Michael: 41406\n",
            "2. Ashley: 26601; Matthew: 32877\n",
            "3. Emily: 24381; Christopher: 32673\n",
            "4. Samantha: 21644; Jacob: 31132\n",
            "5. Sarah: 21393; Joshua: 30719\n",
            "Female: 111.63, 11, Jessica, Zuzanna\n",
            "Male: 184.28, 11, Michael, Zyon\n",
            "\n",
            "1996\n",
            "1. Emily: 25151; Michael: 38366\n",
            "2. Jessica: 24201; Matthew: 32074\n",
            "3. Ashley: 23679; Jacob: 31926\n",
            "4. Sarah: 21041; Christopher: 30903\n",
            "5. Samantha: 20552; Joshua: 29174\n",
            "Female: 110.30, 11.0, Emily, Zyesha\n",
            "Male: 179.81, 11.0, Michael, Zyler\n",
            "\n",
            "1997\n",
            "1. Emily: 25735; Michael: 37551\n",
            "2. Jessica: 21045; Jacob: 34158\n",
            "3. Ashley: 20895; Matthew: 31516\n",
            "4. Sarah: 20714; Christopher: 29105\n",
            "5. Hannah: 20594; Joshua: 28286\n",
            "Female: 107.69, 11.0, Emily, Zykerria\n",
            "Male: 174.36, 11, Michael, Zohar\n",
            "\n",
            "1998\n",
            "1. Emily: 26185; Michael: 36617\n",
            "2. Hannah: 21375; Jacob: 36026\n",
            "3. Samantha: 20194; Matthew: 31144\n",
            "4. Sarah: 19894; Joshua: 28092\n",
            "5. Ashley: 19873; Christopher: 27004\n",
            "Female: 106.43, 11.0, Emily, Zynab\n",
            "Male: 169.00, 11, Michael, Zyquan\n",
            "\n",
            "1999\n",
            "1. Emily: 26539; Jacob: 35369\n",
            "2. Hannah: 21678; Michael: 33912\n",
            "3. Alexis: 19235; Matthew: 30417\n",
            "4. Sarah: 19115; Joshua: 27260\n",
            "5. Samantha: 19041; Nicholas: 25639\n",
            "Female: 104.67, 11.0, Emily, Zuzu\n",
            "Male: 165.36, 11, Jacob, Zyshaun\n",
            "\n"
          ]
        }
      ],
      "source": [
        "### h) Your code starts here\n",
        "import my_module\n",
        "\n",
        "name_2000, gender_2000, counts_2000 = my_module.read_text('2000')\n",
        "\n",
        "my_module.qualitative_summary(name_2000, gender_2000, counts_2000, 10)\n",
        "my_module.quantitative_summary(name_2000, gender_2000, counts_2000)\n",
        "\n",
        "### g) Your code starts here\n",
        "\n",
        "year_list = range(1990, 2000)\n",
        "for year in year_list:\n",
        "    print(year)\n",
        "    name_year, gender_year, counts_year = my_module.read_text(str(year))\n",
        "\n",
        "    my_module.qualitative_summary(name_year, gender_year, counts_year, 5)\n",
        "    my_module.quantitative_summary(name_year, gender_year, counts_year)\n",
        "    print()"
      ]
    }
  ],
  "metadata": {
    "colab": {
      "collapsed_sections": [
        "iWT3xlIok70z",
        "aQNE9QEPpYHh"
      ],
      "provenance": []
    },
    "kernelspec": {
      "display_name": "Python 3",
      "name": "python3"
    },
    "language_info": {
      "codemirror_mode": {
        "name": "ipython",
        "version": 3
      },
      "file_extension": ".py",
      "mimetype": "text/x-python",
      "name": "python",
      "nbconvert_exporter": "python",
      "pygments_lexer": "ipython3",
      "version": "3.9.16"
    }
  },
  "nbformat": 4,
  "nbformat_minor": 0
}
