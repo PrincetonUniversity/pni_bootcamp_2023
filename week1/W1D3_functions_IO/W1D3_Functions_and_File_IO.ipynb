{
  "cells": [
    {
      "cell_type": "markdown",
      "metadata": {
        "id": "IF7u7bN3jALX"
      },
      "source": [
        "## Bootcamp 2023 W1D3 - Functions and FILE IO\n",
        "\n",
        "This notebook covers the basic construction of python functions and file IO"
      ]
    },
    {
      "cell_type": "markdown",
      "metadata": {
        "id": "vbsjhlVvj_l_"
      },
      "source": [
        "## Try writing functions with the annotation format to increase readability: \n",
        "## `variable: type, variable: type, ... -> return_type`\n",
        "\n",
        "## Exercise 1"
      ]
    },
    {
      "cell_type": "markdown",
      "metadata": {
        "id": "LlwdGb1LkBcl"
      },
      "source": [
        "### a) Write a function `my_first_function` that returns the string \"Hello World!\" with no input\n",
        "\n",
        "### b) Write a function `custom_hello` that returns the string \"Hello World, [name]!\" with an input variable `name` that customises the output string.\n",
        "\n",
        "### c) Write a function `default_hello` that returns the string \"Hello World, PNI!\" with a default argument `name` set as \"PNI\""
      ]
    },
    {
      "cell_type": "code",
      "execution_count": null,
      "metadata": {
        "id": "2TuRBIgZg6XU"
      },
      "outputs": [],
      "source": [
        "### a) Your code starts here\n",
        "\n",
        "### b) Your code starts here\n",
        "\n",
        "### c) your code starts here"
      ]
    },
    {
      "cell_type": "markdown",
      "metadata": {
        "id": "iWT3xlIok70z"
      },
      "source": [
        "#### Hidden tests"
      ]
    },
    {
      "cell_type": "code",
      "execution_count": null,
      "metadata": {
        "id": "6aB51nRgk4eG"
      },
      "outputs": [],
      "source": [
        "assert my_first_function() == \"Hello World!\", \"Test for exercise 1a failed\"\n",
        "assert custom_hello(\"abc\") == \"Hello World, abc!\", \"Test for exercise 1b failed\"\n",
        "assert default_hello() == \"Hello World, PNI!\", \"Test for exercise 1c failed\"\n",
        "assert default_hello(\"abc\") == \"Hello World, abc!\", \"Test for exercise 1c failed\""
      ]
    },
    {
      "cell_type": "markdown",
      "metadata": {
        "id": "8JYnBPv-lOUx"
      },
      "source": [
        "Differences between positional and keyword arguments, and *args\n",
        "\n",
        "### d) Write a function `function_1d` that takes in three variables: `a`, `b`, and `c` and outputs `a * b + c`. Run the function with the call `function_1d(a = 3, b = 1, c = 2)`, compare it with the call `function_1d(c = 2, a = 3, b =1)`\n",
        "\n",
        "### e) Try running `function_1d(2, 3, 1)`, what is the difference? How can you return the right result?\n",
        "\n",
        "### f) Write a function `infinite_sum` that takes in all variables in a function call and output the sum of all inputs. Try with the function call `infinite_sum(0, 1, 2)` and `infinite_sum(1, 10, 2, 9, 3, 8)`"
      ]
    },
    {
      "cell_type": "code",
      "execution_count": null,
      "metadata": {
        "colab": {
          "base_uri": "https://localhost:8080/"
        },
        "id": "Ip9-Y59clM83",
        "outputId": "c2ab6d21-8dd3-4e09-891d-36e297ec3400"
      },
      "outputs": [],
      "source": [
        "### d) Your code starts here\n",
        "\n",
        "### e) Your code starts here\n",
        "\n",
        "### f) Your code starts here"
      ]
    },
    {
      "cell_type": "markdown",
      "metadata": {
        "id": "aQNE9QEPpYHh"
      },
      "source": [
        "#### Hidden tests"
      ]
    },
    {
      "cell_type": "code",
      "execution_count": null,
      "metadata": {
        "id": "NrbmpflDpal4"
      },
      "outputs": [],
      "source": [
        "assert function_1d(a = 3, b = 1, c = 2) == 5, \"Test for exercise 1d failed\"\n",
        "assert infinite_sum(1, 10, 2, 9, 3, 8) == 33, \"Test for exercise 1e failed\""
      ]
    },
    {
      "cell_type": "markdown",
      "metadata": {
        "id": "tQxsHmb2pqlM"
      },
      "source": [
        "### g) Write a function `palindrome(input_str)` that determines whether the input string is a palindrome. The output should be a boolean value of True or False. Examples include: \"radar\", \"1234321\"\n",
        "\n",
        "### h) Write a function `palindrome_sum(input_str)` that returns the sum of a palindrome number. if the input is not integer, return \"Try again with an integer\", if the input is not palindrome, return \"Try again with a palindrome number!\"\n",
        "\n",
        "### i) We briefly talked about recursion during lecture. Try to write a function `fibonacci(n)` where the nth fibonacci number is returned. You can read more about fibonacci number [here](https://www.wikiwand.com/en/Fibonacci_sequence)"
      ]
    },
    {
      "cell_type": "code",
      "execution_count": null,
      "metadata": {
        "id": "jpuyBZA7rLwH"
      },
      "outputs": [],
      "source": [
        "### g) Your code starts here\n",
        "\n",
        "### h) Your code starts here\n",
        "\n",
        "### i) Your code starts here"
      ]
    },
    {
      "cell_type": "markdown",
      "metadata": {
        "id": "5g8wL2aTwNDP"
      },
      "source": [
        "#### Hidden tests"
      ]
    },
    {
      "cell_type": "code",
      "execution_count": null,
      "metadata": {
        "id": "xC3nE_FxtDLy"
      },
      "outputs": [],
      "source": [
        "assert is_palindrome(\"radar\"), \"Test for exercise 1g failed\"\n",
        "assert not is_palindrome(\"123\"), \"Test for exercise 1g failed\"\n",
        "\n",
        "assert palindrome_sum(\"12321\") == 9, \"Test for exercise 1h failed\"\n",
        "assert palindrome_sum(\"abc\") == \"Try again with an integer!\", \"Test for exercise 1h failed\"\n",
        "assert palindrome_sum(\"123\") == \"Try again with a palindrome number!\", \"Test for exercise 1h failed\"\n",
        "\n",
        "assert fibonacci(10) == 55, \"Test for exercise 1i failed\""
      ]
    },
    {
      "cell_type": "markdown",
      "metadata": {
        "id": "lx6FVrNDwS1H"
      },
      "source": [
        "### j) Write a lambda function `square_func` that automatically return the square of the input and try `square_func(5)`\n",
        "\n",
        "### k) As discussed in the lecture, lambda fucntions are very useful to be used with `map` function, try to write a lambda function `to_percent` that changes a decimal (0.7) to a percentage (70%). Apply this function to every element in the list `list_1k` , save the result in `list_1k_percentage`, and print out the result"
      ]
    },
    {
      "cell_type": "code",
      "execution_count": null,
      "metadata": {
        "colab": {
          "base_uri": "https://localhost:8080/"
        },
        "id": "2lX_XGzswSEz",
        "outputId": "fa4a14cb-e2bb-4c61-9296-1588496d93b7"
      },
      "outputs": [],
      "source": [
        "### j) Your code starts here\n",
        "\n",
        "### k) Your code starts here"
      ]
    },
    {
      "cell_type": "markdown",
      "metadata": {
        "id": "4c4Lvp7oTEZ1"
      },
      "source": [
        "#### Hidden tests"
      ]
    },
    {
      "cell_type": "code",
      "execution_count": null,
      "metadata": {
        "id": "B2KauOcfTDe4"
      },
      "outputs": [],
      "source": [
        "assert square_func(5) == 25, \"Test for exercise 1j failed\"\n",
        "assert list_1k_percentage == [5.0, 70.0, 80.0, 12.0, 40.0, 99.0], \"Test for exercise 1k failed\""
      ]
    },
    {
      "cell_type": "markdown",
      "metadata": {
        "id": "CtHNsqAvTa46"
      },
      "source": [
        "## Exercise 2: File IO\n",
        "\n",
        "Download the files from [here](https://www.ssa.gov/oact/babynames/names.zip) using `!wget` (for linux/ mac), unzip the files and put the files in the same directory. You can also just download the files manually and put them in the same directory as this notebook.\n",
        "\n",
        "read more about using command lines on python here: http://ipython.readthedocs.io/en/stable/interactive/magics.html#magic-system"
      ]
    },
    {
      "cell_type": "markdown",
      "metadata": {
        "id": "VYQQHOkoTfky"
      },
      "source": [
        "### a) Read in the file `yob1900.txt` and print out its first line, confirm that is starts with `Mary`. Read all lines and store it in `names_1900`. Inspect he variable and understand what is the structure of the file. Describe what each column represents.\n",
        "\n",
        "### b) Write a new row into the file `yob1900.txt`. You can customise what the row contains, but try to stay the same format as the other rows. Read the file again and confirm that your new row is there."
      ]
    },
    {
      "cell_type": "code",
      "execution_count": null,
      "metadata": {
        "id": "chm2e7rhTe0Y"
      },
      "outputs": [],
      "source": [
        "# !wget https://www.ssa.gov/oact/babynames/names.zip\n",
        "\n",
        "data_path = 'names/yob1900.txt'\n",
        "\n",
        "### a) Your code starts here\n",
        "\n",
        "### b) Your code starts here"
      ]
    },
    {
      "cell_type": "markdown",
      "metadata": {},
      "source": [
        "### c) Write a function `read_text` that does the following: given a string `year`, the function reads in the corresponding file and returns three lists: `names`, `genders`, and `counts`. For example, `read_text('2011')` should return the lists `['Jacob', 'Isabella', ...]`, `['M', 'F', ...]`, and `[20331, 22222, ...]`. (Hint: you can use the `split` method to split a string into a list of strings. For example, `'a b c'.split(' ')` returns `['a', 'b', 'c']`.) Try calling your function with different year to make sure it works.\n",
        "\n",
        "### d) Write a function `mean` that takes a list of numbers and returns the mean of the numbers. For example, `mean([1, 2, 3])` should return `2.0`. (Hint: you can use the `sum` function to sum up all the numbers in a list. For example, `sum([1, 2, 3])` returns `6`.)\n",
        "\n",
        "### e) Write a function `median` that takes a list of numbers and returns the median of the numbers. For example, `median([1, 2, 3])` should return `2.0`. (Hint: you can use the `sorted` function to sort a list. For example, `sorted([3, 2, 1])` returns `[1, 2, 3]`.)"
      ]
    },
    {
      "cell_type": "code",
      "execution_count": null,
      "metadata": {},
      "outputs": [],
      "source": [
        "### c) Your code starts here\n",
        "\n",
        "### d) Your code starts here\n",
        "\n",
        "### e) Your code starts here"
      ]
    },
    {
      "cell_type": "markdown",
      "metadata": {},
      "source": [
        "#### Hidden tests"
      ]
    },
    {
      "cell_type": "code",
      "execution_count": null,
      "metadata": {},
      "outputs": [],
      "source": [
        "assert mean([1, 2, 3, 4, 5]) == 3.0, \"Test for exercise 2d failed\"\n",
        "assert median([1, 2, 3]) == 2, \"Test for exercise 2e failed\""
      ]
    },
    {
      "cell_type": "markdown",
      "metadata": {},
      "source": [
        "### "
      ]
    },
    {
      "cell_type": "markdown",
      "metadata": {},
      "source": [
        "### f) Write a function `qualitative_summary` that takes in the list of `names`, `genders`, `counts`, and `n` and output the `n` most popular names for each gender in the format: `Rank. Female Name: Count, Male Name: Count`\n",
        "\n",
        "Tips: the file is already sorted!\n",
        "\n",
        "### g) Write a function `quantitative_summary` that akes in the list `names`, `genders`, and `counts` and output the mean, median, max, min of names for each gender in the format:\n",
        "\n",
        "`Female: Mean Count, Median Count, Max name, Min name`\n",
        "\n",
        "`Male: Mean Count, Median Count, Max name, Min name`"
      ]
    },
    {
      "cell_type": "code",
      "execution_count": null,
      "metadata": {},
      "outputs": [],
      "source": [
        "### f) Your code starts here\n",
        "\n",
        "### g) Your code starts here\n"
      ]
    },
    {
      "cell_type": "markdown",
      "metadata": {},
      "source": [
        "### h) try to put all the functions into a separate file called my_module.py and call them from there. Make sure you have my_module.py in the same folder as your notebook. You can import the module by using import my_module. You can call the functions by using my_module.my_function(). Try to do the following pipleine: read in all the data from 2000, print out the top 10 names and quantitatve summary.\n",
        "\n",
        "\n",
        "### i) Try comparing qualitatively and quantitatively the distribution of names across 10 years. What are the interesting changes/ commonalities?"
      ]
    },
    {
      "cell_type": "code",
      "execution_count": null,
      "metadata": {},
      "outputs": [],
      "source": [
        "### h) Your code starts here\n",
        "\n",
        "### i) Your code starts here"
      ]
    }
  ],
  "metadata": {
    "colab": {
      "collapsed_sections": [
        "iWT3xlIok70z",
        "aQNE9QEPpYHh"
      ],
      "provenance": []
    },
    "kernelspec": {
      "display_name": "Python 3",
      "name": "python3"
    },
    "language_info": {
      "codemirror_mode": {
        "name": "ipython",
        "version": 3
      },
      "file_extension": ".py",
      "mimetype": "text/x-python",
      "name": "python",
      "nbconvert_exporter": "python",
      "pygments_lexer": "ipython3",
      "version": "3.9.16"
    }
  },
  "nbformat": 4,
  "nbformat_minor": 0
}
