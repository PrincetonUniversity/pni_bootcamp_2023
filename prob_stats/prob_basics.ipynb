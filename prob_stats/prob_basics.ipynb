{
 "cells": [
  {
   "cell_type": "markdown",
   "id": "674283a8",
   "metadata": {},
   "source": [
    "# Sample spaces\n",
    "\n",
    "Sample spaces are the fundamental building blocks of probability theory. Here's an example using a scenario from a typical systems neurosceince experiment. \n",
    "\n",
    "Imagine there's a mouse in an experiment box with two levers available. We'll call them lever $f$ for food and lever $w$ or water, when the mouse pulls the appropriate lever it gets either food or water. When the mouse makes a choice to select either of two, the **random event** of the mouse picking a lever crystalizes into an sample (namely that either water or food appear). The sample space here is the set of all choices the mouse can make. So if we denote the sample space by the script $\\mathbb{S}$, it has two sets in it: \n",
    "\n",
    "$$\\mathbb{S} = \\big(f, w \\big)$$\n",
    "\n",
    "$f$ is the set that contains food, while $w$ is the set that contains water.\n",
    "\n",
    "Let's further say that $f$ consists of 3 different foods $f = \\{oats, seeds, apples\\}$ and that the set $w$ consists of 3 flavors of water $w = \\{lemon, strawberry, cucumber\\}$\n",
    "\n",
    "\n",
    "To reiterate, a sample space is the space of all possible things that can happen in an experiment. In this case the sample space consists of two sets, and each of those sets has multiple elements. \n",
    "\n",
    "$$\\mathbb{S} = \\big(f = \\{oats, seeds, apples\\}, w = \\{lemon, strawberry, cucumber\\} \\big)$$\n",
    "\n",
    "\n",
    "# Random variables\n",
    "\n",
    "The term random variable is a misnomer. Random variables are neither random nor variables. Random variables are **functions**, that take as input random events (this is where the randomness comes in) and **deterministically map** those events to some output space. \n",
    "\n",
    "To be overly technical for a moment we'll denote a random variable by a capital letter, then say $P(A = a)$ is the probability that the random variable $A$ equals the specific value $a$. We can be messy with notation and instead of writing $P(A = a)$,  simply write $P(a)$. While the above is sloppy, it isn't incorrect. On the other hand, if someone writes $P(A)$ and they really do intend $A$ to be a random variable, they are confused, as that makes no sense. \n",
    "\n",
    "\n",
    "In the systems neurscience example of the mouse picking a lever to press, we'll say that the random variable is the process of the mouse making the choice. Then when the choice is made, the event of food or water appearing cyrstalizes. Notice that the randomness is in the animal making the choice. However when the choice is made, it always deterministically maps to either food or water.\n",
    "\n",
    "# Probability functions\n",
    "\n",
    "A probability function is a function that assigns a numerical value between 0 and 1, to the outcome of a random variable. It says \"what is the probability (which is between 0 and 1) that the random variable takes on a certain value\". Going with our running example we'll denote $C$ as the random variable of the mouses choice. Then, if we want to denote the probability of getting water, we'd write \n",
    "\n",
    "$$P(C = w)$$\n",
    "\n",
    "# Distributions of random variables\n",
    "\n",
    "The distribution of a random variable specifies the probabilities of **all** events associated with the random variable. There are commonly known distributions that you'll get to know in the next notebook. For now, we'll make our own distribution using our running example. \n",
    "\n",
    "\n",
    "Recall that our sample space consists of two sets of events: \n",
    "\n",
    "$$\\mathbb{S} = \\big(f = \\{oats, seeds, apples\\}, w = \\{lemon, strawberry, cucumber\\} \\big)$$\n",
    "\n",
    "\n",
    "assume that all events, across sets have equal probability. An axiom of probability is that distributions must sum to 1. Using this fact, what is the probability of: \n",
    "\n",
    "$$P(C = \\{f=oats\\})$$"
   ]
  },
  {
   "cell_type": "markdown",
   "id": "b1f201c9",
   "metadata": {},
   "source": [
    "Write your answer as code comment in the next cell"
   ]
  },
  {
   "cell_type": "code",
   "execution_count": 2,
   "id": "3e3c1217",
   "metadata": {},
   "outputs": [],
   "source": [
    "\"\"\"\n",
    "\"\"\";"
   ]
  },
  {
   "cell_type": "markdown",
   "id": "1972192c",
   "metadata": {},
   "source": [
    "What is the probability of \n",
    "\n",
    "$$P(C = w)$$"
   ]
  },
  {
   "cell_type": "code",
   "execution_count": 3,
   "id": "dca55bf3",
   "metadata": {},
   "outputs": [],
   "source": [
    "\"\"\"\n",
    "\"\"\";"
   ]
  },
  {
   "cell_type": "markdown",
   "id": "91ae6eb1",
   "metadata": {},
   "source": [
    "# Independance & Joint probability\n",
    "In probability, if two events are independent then knowing one event occurred does not influence the probability of the other occuring and vice versa. If we consider the probability of two events, we say we are condisering their **joint probability** denoted as: \n",
    "\n",
    "$$P(f, w)$$\n",
    "\n",
    "\n",
    "if the events are independent then: \n",
    "\n",
    "$$P(f, w) = P(f)P(w)$$\n",
    "\n",
    "recall how the experiment for our running example works, are $P(f)$ and $P(w)$ independet? That is, can we write $P(f, w) = P(f)P(w)$ ? \n",
    "\n",
    "\n",
    "Write your answer in the code comment in the next cell, explain why"
   ]
  },
  {
   "cell_type": "code",
   "execution_count": null,
   "id": "03147465",
   "metadata": {},
   "outputs": [],
   "source": [
    "\"\"\"\n",
    "\"\"\";"
   ]
  },
  {
   "cell_type": "markdown",
   "id": "da96c038",
   "metadata": {},
   "source": [
    "# Conditional probability\n",
    "\n",
    "Conditional probabilities are written as $P(f|w)$ the way to read this is \"probability of $f$, conditioned on $w$. That is, if we have informaion abou $w$, what is the probability of $f$?\n",
    "\n",
    "One way to define conditional probability is: \n",
    "\n",
    "$$P(f|w) = \\frac{P(f, w)}{P(w)}$$\n",
    "\n",
    "Use the information above to compute $P(f|w)$\n",
    "\n",
    "write your answer in the code block below as a comment"
   ]
  },
  {
   "cell_type": "code",
   "execution_count": null,
   "id": "b5090e6a",
   "metadata": {},
   "outputs": [],
   "source": [
    "\"\"\"\n",
    "\"\"\";"
   ]
  },
  {
   "cell_type": "markdown",
   "id": "e1998344",
   "metadata": {},
   "source": [
    "What is the following conditional probability? \n",
    "\n",
    "$$P(lemon | w)$$\n",
    "\n",
    "Write your answer in the code comment in the next cell, explain why"
   ]
  },
  {
   "cell_type": "code",
   "execution_count": 4,
   "id": "504d91cb",
   "metadata": {},
   "outputs": [],
   "source": [
    "\"\"\"\n",
    "\"\"\";"
   ]
  },
  {
   "cell_type": "markdown",
   "id": "b63bb9c8",
   "metadata": {},
   "source": [
    "# Two most important operations in probability\n",
    "\n",
    "### Product rule:\n",
    "\n",
    "$$P(a, b) = P(a|b) P(b) = P(b|a) P(a)$$\n",
    "\n",
    "Above we show for 2 variables, here's another example for 3 variables:\n",
    "\n",
    "$$P(a, b, c) = P(a|b, c) P(b, c) = P(a|b,c)P(b|c)P(c)$$\n",
    "\n",
    "We can generalize this for $n$ variables inside of $P(\\cdot)$ once we have decided on an ordering of the variables.\n",
    "\n",
    "### Law of total probability :\n",
    "\n",
    "$$P(a) = \\sum_{b_i \\in b} P(a, b)$$\n",
    "\n",
    "above we assume b is discrete. If it is continuous then we just replace the sum with another summation technique: \n",
    "\n",
    "$$P(a) = \\int P(a, b) \\mathop{db}$$"
   ]
  },
  {
   "cell_type": "code",
   "execution_count": null,
   "id": "3c0ca365",
   "metadata": {},
   "outputs": [],
   "source": []
  },
  {
   "cell_type": "code",
   "execution_count": null,
   "id": "e089a257",
   "metadata": {},
   "outputs": [],
   "source": []
  }
 ],
 "metadata": {
  "kernelspec": {
   "display_name": "Python 3",
   "language": "python",
   "name": "python3"
  },
  "language_info": {
   "codemirror_mode": {
    "name": "ipython",
    "version": 3
   },
   "file_extension": ".py",
   "mimetype": "text/x-python",
   "name": "python",
   "nbconvert_exporter": "python",
   "pygments_lexer": "ipython3",
   "version": "3.8.5"
  }
 },
 "nbformat": 4,
 "nbformat_minor": 5
}
