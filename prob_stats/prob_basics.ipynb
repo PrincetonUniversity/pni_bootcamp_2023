{
 "cells": [
  {
   "cell_type": "markdown",
   "id": "2cfb610f",
   "metadata": {},
   "source": [
    "# Sample spaces\n",
    "\n",
    "Sample spaces are the fundamental building blocks of probability theory. Here's an example using a scenario from a typical systems neurosceince experiment. \n",
    "\n",
    "Imagine there's a mouse in an experiment box with two levers available. We'll call them lever $f$ for food and lever $w$ or water, when the mouse pulls the appropriate lever it gets either food or water. When the mouse makes a choice to select either of two, the **random event** of the mouse picking a lever crystalizes into an sample (namely that either water or food appear). The sample space here is the set of all choices the mouse can make. So if we denote the sample space by the script $\\mathbb{S}$, it has two sets in it: \n",
    "\n",
    "$$\\mathbb{S} = \\big(f, w \\big)$$\n",
    "\n",
    "$f$ is the set that contains food, while $w$ is the set that contains water.\n",
    "\n",
    "Let's further say that $f$ consists of 3 different foods $f = \\{oats, seeds, apples\\}$ and that the set $w$ consists of 2 flavors of water $w = \\{lemon, strawberry\\}$\n",
    "\n",
    "\n",
    "To reiterate, a sample space is the space of all possible things that can happen in an experiment. In this case the sample space consists of two sets, and each of those sets has multiple elements. \n",
    "\n",
    "$$\\mathbb{S} = \\big(f = \\{oats, seeds, apples\\}, w = \\{lemon, strawberry\\} \\big)$$\n",
    "\n",
    "\n",
    "# Random variables\n",
    "\n",
    "The term random variable is a misnomer. Random variables are neither random nor variables. Random variables are **functions**, that take as input random events (this is where the randomness comes in) and **deterministically map** those events to some output space. \n",
    "\n",
    "To be overly technical for a moment we'll denote a random variable by a capital letter, then say $P(A = a)$ is the probability that the random variable $A$ equals the specific value $a$. We can be messy with notation and instead of writing $P(A = a)$,  simply write $P(a)$. While the above is sloppy, it isn't incorrect. On the other hand, if someone writes $P(A)$ and they really do intend $A$ to be a random variable, they are confused, as that makes no sense. \n",
    "\n",
    "\n",
    "In the systems neurscience example of the mouse picking a lever to press, we'll say that the random variable is the process of the mouse making the choice. Then when the choice is made, the event of food or water appearing cyrstalizes. Notice that the randomness is in the animal making the choice. However when the choice is made, it always deterministically maps to either food or water.\n",
    "\n",
    "# Probability functions\n",
    "\n",
    "A probability function is a function that assigns a numerical value between 0 and 1, to the outcome of a random variable. It says \"what is the probability (which is between 0 and 1) that the random variable takes on a certain value\". Going with our running example we'll denote $C$ as the random variable of the mouses choice. Then, if we want to denote the probability of getting water, we'd write \n",
    "\n",
    "$$P(C = w)$$"
   ]
  },
  {
   "cell_type": "markdown",
   "id": "52f51458",
   "metadata": {},
   "source": [
    "# Two most important operations in probability\n",
    "\n",
    "### Product rule:\n",
    "\n",
    "$$P(a, b) = P(a|b) P(b) = P(b|a) P(a)$$\n",
    "\n",
    "Above we show for 2 variables, here's another example for 3 variables:\n",
    "\n",
    "$$P(a, b, c) = P(a|b, c) P(b, c) = P(a|b,c)P(b|c)P(c)$$\n",
    "\n",
    "We can generalize this for $n$ variables inside of $P(\\cdot)$ once we have decided on an ordering of the variables.\n",
    "\n",
    "### Law of total probability :\n",
    "\n",
    "$$P(a) = \\sum_{b_i \\in b} P(a, b)$$\n",
    "\n",
    "above we assume b is discrete. If it is continuous then we just replace the sum with another summation technique: \n",
    "\n",
    "$$P(a) = \\int P(a, b) \\mathop{db}$$"
   ]
  },
  {
   "cell_type": "code",
   "execution_count": null,
   "id": "2ea37682",
   "metadata": {},
   "outputs": [],
   "source": []
  },
  {
   "cell_type": "code",
   "execution_count": null,
   "id": "ed4b4ecc",
   "metadata": {},
   "outputs": [],
   "source": []
  }
 ],
 "metadata": {
  "kernelspec": {
   "display_name": "Python 3",
   "language": "python",
   "name": "python3"
  },
  "language_info": {
   "codemirror_mode": {
    "name": "ipython",
    "version": 3
   },
   "file_extension": ".py",
   "mimetype": "text/x-python",
   "name": "python",
   "nbconvert_exporter": "python",
   "pygments_lexer": "ipython3",
   "version": "3.8.5"
  }
 },
 "nbformat": 4,
 "nbformat_minor": 5
}
