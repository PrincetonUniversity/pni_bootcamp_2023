{
 "cells": [
  {
   "cell_type": "markdown",
   "id": "c0682b9c",
   "metadata": {},
   "source": [
    "# Why care about probability & statistics?\n",
    "\n",
    "Probability gives you the tools to model the data that you have. Data is large, fast, messy, and all of these aspects throw a wrench in understanding it. Probability distributions give you the tools to summarize that data in relatively straightforward ways. "
   ]
  },
  {
   "cell_type": "markdown",
   "id": "3e528e2a",
   "metadata": {},
   "source": [
    "\n",
    "# A Gaussian (also called Normal) distribution\n",
    "\n",
    "If you’re recording calcium fluorsences from the brain, this data will be positive and negative. Perhaps positive when something rewarding happens. Perhaps negative when the animal was expecting a reward but didn't receive one. This data is continuous, it has non-zero floating point representations on the computer. We can use these facts to select a family of probability distributions to model the data. A good candidate in this case would be the gaussian since it too is continuous, taking on positive and negative values.\n",
    "\n",
    "But how do you use this distribution to summarize the data? Say you have data from an entire session of training an animal. You typically want to look at specific periods of the session (like when the animal makes a choice). One way to try and understand what happens when an animal makes a choice is to ask, on average, what is the response in the neural data when the animal makes a choice? We can answer this question using important quantities of the probability distribution we have chosen. For our gaussian distribution, we’d be interested in looking at the mean of the gaussian. We’ve now made an explicit link between the average response at choice time, and the mean of the gaussian distribution. \n",
    "\n",
    "Now the question becomes, how do we do it? Can we just say the average response is the mean? We can, but that’s not super helpful. Typically we want to say that the average response is the mean, and that mean is itself a result of some mathematical operation that takes into account peri-stimulus-choice time relevant events. For example, the animal has to consider the evidence (in a sensory decision making task) in front of it, and then make a choice. This takes us to our next step. We want to say the mean is equal to some task - relevant events multiplied by some unknowns that weigh the importance of those events. We also say that there is some random noise involved, because well, we assume the brain is noisy. In an equation that is\n",
    "\n",
    "$$y= xw +  \\epsilon \\quad \\quad (1)$$\n",
    "\n",
    "\n",
    "and in words we say $\\epsilon$ is the random noise, $x$ is the task relevant event, like the stimulus seen at choice time, and $w$ is the weight that weighs the importance of that stimulus. $\\mu=xw$ is the mean. If we google what a gaussian distribution is, all paths flow to mentioning two important parameters, the mean and the variance. We denote a gaussian distribution as \n",
    "\n",
    "\n",
    "$$Normal(\\mu, \\sigma^2) = Normal(xw, \\sigma^2)   \\quad \\quad  (2)   $$\n",
    "\n",
    "\n",
    "Notice that we have $\\epsilon$ in equation (1) and $\\sigma^2$ in equation (2). This is a detail right now, but it’s because the random noise itself has a gaussian distribution.\n",
    "Keep in mind the above, and always refer to it as motivation. We’ll now learn, in a somewhat removed sense, more about the Gaussian distribution, and other topics in probability. \n",
    "\n",
    "\n",
    "This is a continuous distribution for real-valued random variables. In additional these can be vector valued (i.e. multivariate) or scalar valued (univariate). The **probability density function** (PDF) of a univariate Gaussian is:\n",
    "\n",
    "$$f(y; \\mu, \\sigma^2) = \\frac{1}{\\sqrt{2\\pi \\sigma^2}} exp\\Big(-\\frac{1}{2}  \\frac{(y - \\mu)^2}{\\sigma^2}\\Big)$$\n",
    "\n",
    "sometimes, depending on the notation you'll see this abbreviated as: \n",
    "\n",
    "$$p(y; \\mu, \\sigma^2) = Normal(y; \\mu, \\sigma^2)$$\n",
    "\n",
    "or, in terms of $xw$\n",
    "\n",
    "$$p(y; x, w, \\sigma^2) = \\frac{1}{\\sqrt{2\\pi \\sigma^2}} exp\\Big(-\\frac{1}{2}  \\frac{(y - xw)^2}{\\sigma^2}\\Big)$$\n",
    "\n",
    "where $Normal(\\cdot)$ is equal to the function writen out above with the exponential in it. When we \"evalute\" the above we compute the density of some value $y$, under some fixed values for $\\mu$ and $\\sigma^2$\n",
    "\n",
    "The mean, $\\mu$, of a Gaussian distribution is sometimes referred to as the \"location\" parameter. Intuitively you can think of it, in the univariate case, as the point on the real number line that the shape of the distribution is centered on. The standard deviation, $\\sigma$ ,(recall that standard deviation is the square root of the variance) is sometimes referred to as the \"scale\" parameter. It will determine how much values spread out away from the peak."
   ]
  },
  {
   "cell_type": "code",
   "execution_count": 6,
   "id": "87198a02",
   "metadata": {},
   "outputs": [],
   "source": [
    "from scipy.stats import norm\n",
    "import numpy as np\n",
    "import matplotlib.pyplot as plt"
   ]
  },
  {
   "cell_type": "markdown",
   "id": "479fcd56",
   "metadata": {},
   "source": [
    "# Two general operations with probability distributions\n",
    "\n",
    "Aside from modelling data, the two most common things you'll do with probability distributions are sampling and evaluating. \n",
    "\n",
    "In **sampling** from a probability distribution we first need to decide on what member from the family of distribution we want. First we pick a family from a set of predefined probability families. These are: \n",
    "\n",
    "Gaussain, Bernoulli, Gamma, Poission, Binomial, Exponential, ..., and many more we won't mention. Then from a given family you get a particular member of that family by selecting what values it's parameters will have. For example, Gaussian distributions have two parameters, the mean $\\mu$, and the variance $\\sigma^2$. Once we set these to specific values, then we have decided on a particular member of the Gaussian family. e.g.: \n",
    "\n",
    "$$Normal(\\mu=0, \\sigma^2=1)$$\n",
    "\n",
    "is a member of the family of Gaussian distributions, in particular the one with a mean of zero and a variance of 1. Once we have done this, then we can sample values from this member. Sampling results in generating a set of random values. If you take the mean of these values, they will be close to 0. If you measure how much they spread^2 from that mean, it should be close to the variance.  Below we give an example of sampling many values from a Gaussian whose mean we set to 0 and whose variance we set to 1."
   ]
  },
  {
   "cell_type": "code",
   "execution_count": 28,
   "id": "aacea34d",
   "metadata": {},
   "outputs": [
    {
     "data": {
      "text/plain": [
       "Text(0.5, 0, 'samples')"
      ]
     },
     "execution_count": 28,
     "metadata": {},
     "output_type": "execute_result"
    },
    {
     "data": {
      "image/png": "[encoded data removed]",
      "text/plain": [
       "<Figure size 640x480 with 1 Axes>"
      ]
     },
     "metadata": {},
     "output_type": "display_data"
    }
   ],
   "source": [
    "# sampling values from a normal distribution\n",
    "mu = 0\n",
    "sig_2 = 1\n",
    "num_samples = 1000\n",
    "norm_distributed = norm(loc=mu, scale=np.sqrt(sig_2)).rvs(num_samples)\n",
    "\n",
    "\"\"\"\n",
    "we can visualize these samples with a histogram. With enough samples we start to get an\n",
    "idea of what the true form of the distribution is (e.g. we get a sense for the mean and standard deviation)\n",
    "\"\"\"\n",
    "fs = 15\n",
    "plt.hist(norm_distributed, edgecolor=\"white\", bins=25);\n",
    "plt.axvline(mu, color=\"red\", linestyle=\"--\", lw=3)\n",
    "plt.annotate(xy=(3, 8000), text=f\"mean = {mu}\");\n",
    "plt.ylabel(\"counts\", fontsize = fs)\n",
    "plt.xlabel(\"samples\", fontsize = fs)"
   ]
  },
  {
   "cell_type": "markdown",
   "id": "ff1b2f46",
   "metadata": {},
   "source": [
    "The other super common operation is **evaluating the probability that certain numbers come from a given distribution with set parameters** (again, think of the Gaussian above where we set $\\mu=0$ and $\\sigma^2 = 1$. To do this we use the distribution's probability function. For continuous distributions this will be the probability density function. For discrete distributions this will be the probability mass function. The code below gives an example of evaluating the PDF of some numbers $y$, given a Gaussian distribution whose parameters we have set to specific values. "
   ]
  },
  {
   "cell_type": "code",
   "execution_count": 4,
   "id": "0c7fccc2",
   "metadata": {},
   "outputs": [],
   "source": [
    "# this is the mean\n",
    "mu = 3.4\n",
    "\n",
    "# this is the variance\n",
    "sig_2 = 4\n",
    "\n",
    "# we will evaluate the density by plugging in each value of y below\n",
    "y = [0.1, 1, 2, 10.4]\n",
    "\"\"\"\n",
    "note that the norm object we just imported contains the same function\n",
    "that Normal() contains, as written in the markup cell above\n",
    "this function is used with the .pdf() call\n",
    "two ways you can do this that are equivalent:\n",
    "\"\"\"\n",
    "way_one = norm.pdf(y, loc=mu, scale=np.sqrt(sig_2))\n",
    "\n",
    "# uncomment these blelow\n",
    "#print(\"first way: \", way_one)\n",
    "\n",
    "# or you can create the object first:\n",
    "way_two = norm(loc=mu, scale=np.sqrt(sig_2))\n",
    "#print(\"second way: \", way_two.pdf(x))\n",
    "\n",
    "\"\"\"\n",
    "can you tell us the difference between these two, what does it mean in terms of \n",
    "what variables are available in the scope of your program?\n",
    "\"\"\";"
   ]
  },
  {
   "cell_type": "markdown",
   "id": "b4d2effd",
   "metadata": {},
   "source": [
    "# Explicit links between modelling and probability distributions\n",
    "\n",
    "In the first example we saw there was a bit of blurring of the lines between understanding probability distributions on their own, and modelling with those distributions. This blurring is intentional because you'll want to **use** those tools (probability theory), rather than just memorize certain definitions about them. There is a general framework for thinking about modelling with probability theory called Generalized Linear Models (GLMs) that you'll learn more about in week 3. A super quick and simplified description on GLMs is that they consist of a few key components: \n",
    "\n",
    "* A probability family\n",
    "* The data you want to explain e.g. $y$\n",
    "* A link function and more specifically inverse link function\n",
    "\n",
    "Since we've already talked about the first bullet points, I'll just focus on the third one. \n",
    "\n",
    "Note that probability distributions are generally not defined in terms of the task relevant events we want to use to model the data. Instead we posit that there are some unknown parameters denoted by $w$ that multiply those task relevant events $x$ and that product is somehow related to parameters of the distribution. In the Gaussian example we were able to explicity link the product $xw$ to the mean of the distrubtion. In general this is not possible. To get around this hurdle we use a linking function, appropriated named as \"link functions\". Thier inverses provide us with a map between the product $xw$ and the parameters of the distributions we are interested in. \n",
    "\n",
    "In the Gaussian example we also have a link function and it's inverse, which is just the identity link function, which I will denote as $I(\\cdot)$. That is for any input $z$: \n",
    "\n",
    "$$I(z) = z$$\n",
    "\n",
    "and\n",
    "\n",
    "$$I^{-1}(z) = z$$\n",
    "\n",
    "\n",
    "so, if we thinking of the mean of the Gaussian distribution $mu$ we have: \n",
    "\n",
    "$$\\mu = I^{-1}(xw) = xw$$\n",
    "\n",
    "below we have an example of the PDF of a Gaussian, where we explicitly define in code it's inverse link funtion, and then use that to compute the PDF of the data $y$, given $w, x, \\sigma^2$"
   ]
  },
  {
   "cell_type": "code",
   "execution_count": null,
   "id": "75af0355",
   "metadata": {},
   "outputs": [],
   "source": [
    "def gaussian_pdf(y, w, x, sig2):\n",
    "    inv_link_fn = x*w\n",
    "    \n",
    "    normalizer = 1 / np.sqrt(np.pi * 2 * sig2)\n",
    "    \n",
    "    p = normalizer * np.exp(-0.5 * (y - inv_link_fn)**2 / sig2)\n",
    "    \n",
    "    return p"
   ]
  },
  {
   "cell_type": "markdown",
   "id": "24becd07",
   "metadata": {},
   "source": [
    "# Matching data to distributions\n",
    "\n",
    "\n",
    "In the example outlined above, we described the data in some minimal but key ways: \n",
    "* calcium fluorsence is continuous\n",
    "* calcium fluorsence takes on positive and negative values\n",
    "\n",
    "this allowed us to look at the set of probability distributions and pick one family (the Gaussian family) to use to model it. \n",
    "\n",
    "We can and should do this in general for different types of data. "
   ]
  },
  {
   "cell_type": "markdown",
   "id": "29ac4198",
   "metadata": {},
   "source": [
    "# A Bernoulli distribution\n",
    "\n",
    "We saw above that a Gaussian distribution is a continuos distribution, and in neuroscience it can be a decent model of continuous data, for example, measures of calcium activity. Now we'll look at a different distribution that is discrete. It's the Bernoulli family of distributions and it has the following **probability mass function** (PMF)\n",
    "\n",
    "$$p(y; \\theta) = \\theta^y (1 - \\theta)^{(1 - y)}$$\n",
    "\n",
    "above the data $y$ are always either $0$ or $1$,\"yes\" or \"no\", left turn or right turn. Hopefully you get the idea. Also $\\theta$ must be some number between $0$ and $1$, for example $0.56$ . The data consist of a set of  binary outcomes. As such, this might be a good candidate for a distribution when we need to model behavior that has two possible outcomes. With that in mind, let's ask the same question of, how do we make sense of data with this distribution?\n",
    "\n",
    "Consider again the situation where an animal sees a stimulus and must make a binary choice based off of the stimulus. Just like in example above we'll say the stimulus is denoted by the variable $x$, and it is weighed by some unknown $w$. In the calcium example we were able to say $\\mu = xw$, and that was the end of it, because $\\mu$ could be any number. We can't do that here because $\\theta$ is restricted to be any number between 0 and 1. \n",
    "\n",
    "Now we can introduce the sigmoid function **(this is another example of an inverse link function)**: \n",
    "\n",
    "$$\\sigma(z) = \\frac{1}{1 + exp(-z)}$$\n",
    "\n",
    "we use this function to transform $xw$ into a number between 0 and 1; $\\theta = \\sigma(xw)$. Finally we can model the outcome $y$ using the PMF of a Bernoulli distribution: \n",
    "\n",
    "$$p(y; x, w, \\sigma(\\cdot)) = \\sigma(xw)^y \\big(1 - \\sigma(xw)\\big)^{1 - y}$$\n",
    "\n",
    "below we show the output range of the sigmoid function for a range of input values. We see that it does indeed restrict all of it's outputs between 0 and 1"
   ]
  },
  {
   "cell_type": "code",
   "execution_count": 15,
   "id": "ce491748",
   "metadata": {},
   "outputs": [],
   "source": [
    "from scipy.special import expit"
   ]
  },
  {
   "cell_type": "code",
   "execution_count": 8,
   "id": "73da2431",
   "metadata": {},
   "outputs": [],
   "source": [
    "x = np.linspace(-16,16,1000) # sample x values, for example the opacity level of a visual stimulus\n",
    "# appears on the right side of the screen (positive values) or left side of the screen (negative values)\n",
    "\n",
    "w = 0.6 # set a weight\n",
    "\n",
    "# define the sigmoid function\n",
    "def sigmoid(x, w):\n",
    "    return 1 / (1 + np.exp(-x*w))"
   ]
  },
  {
   "cell_type": "code",
   "execution_count": 77,
   "id": "e0622728",
   "metadata": {},
   "outputs": [],
   "source": [
    "rho = sigmoid(x, w)\n",
    "\n",
    "\"\"\"\n",
    "of course we don't need to define our own sigmoid function, scipy has one\n",
    "\"\"\";\n",
    "rho2 = expit(x*w)"
   ]
  },
  {
   "cell_type": "code",
   "execution_count": 78,
   "id": "933e3ce8",
   "metadata": {},
   "outputs": [
    {
     "data": {
      "text/plain": [
       "<matplotlib.legend.Legend at 0x7f7644b8acd0>"
      ]
     },
     "execution_count": 78,
     "metadata": {},
     "output_type": "execute_result"
    },
    {
     "data": {
      "image/png": "[encoded data removed]",
      "text/plain": [
       "<Figure size 640x480 with 1 Axes>"
      ]
     },
     "metadata": {},
     "output_type": "display_data"
    }
   ],
   "source": [
    "fs = 13\n",
    "plt.plot(x, rho, lw=3, label=\"our sigmoid\")\n",
    "plt.plot(x, rho2, linestyle=\"--\", lw=3, label=\"scipy sigmoid\")\n",
    "plt.xlabel(\"x values\", fontsize=fs)\n",
    "plt.ylabel(\"probability\", fontsize=fs)\n",
    "plt.legend(fontsize=fs)"
   ]
  },
  {
   "cell_type": "code",
   "execution_count": 86,
   "id": "dc0ffe16",
   "metadata": {},
   "outputs": [],
   "source": [
    "\"\"\"\n",
    "add some more things here\n",
    "\"\"\";"
   ]
  },
  {
   "cell_type": "markdown",
   "id": "3171ebf7",
   "metadata": {},
   "source": [
    "# A Poisson distribution\n",
    "\n",
    "Continuing with the theme we'll now look into yet another common distribution that can be used to help us summarize neuroscience data. This family is called the Poisson family of distributions. Like the Bernoulli family it is discrete. The type of data it models are counts, non-negative integers such as 5 or 3. Given this information we might reason that it's a natural choice to model spike counts from ephys experiments. It has the following PMF, where now $y$ is the number of spikes\n",
    "\n",
    " $$p(y; \\lambda) = \\frac{\\lambda^y e ^{-\\lambda}}{y!}$$\n",
    "\n",
    "\n",
    "in this example, just like in the Bernoulli example notice that the function is not initially parametrized in terms of $x$ (stimulus) or $w$ (weights on stimulus), but instead using the parameter $\\lambda$. Just like in the Bernoulli example we'll use a function to relate $\\lambda$ to the product $xw$.\n",
    "\n",
    "That function is **($g(\\cdot)$ is the inverse link function for the poisson)**\n",
    "\n",
    "$$\\lambda = g(x, w) = e^{xw}$$\n",
    "\n",
    "giving us the PMF in terms of this function as:\n",
    "\n",
    " $$p(y; x, w, g(\\cdot)) = \\frac{g(x, w)^y e ^{-g(x, w)}}{y!}$$\n",
    " \n",
    "in the choice data example above we gave the motivation that because the parameter that a Bernoulli distribution takes has to be between 0 and 1, we need the sigmoid function to transform the product $xw$ into the correct range. Poisson distributions also have a contraint, namely that $\\lambda >= 0$. The function $g(\\cdot)$ ensures this. To see this note that in general $log(u) = a \\times b$ necessarily imples that $u = e^{a \\times b}$, and log function is undefined for real-valued negative numbers. Plugging this in we have: \n",
    "\n",
    "$$log(\\lambda) = xw \\ge 0$$"
   ]
  },
  {
   "cell_type": "markdown",
   "id": "e2de3af3",
   "metadata": {},
   "source": [
    "## Exercise\n",
    "\n",
    "Use the equation:\n",
    "\n",
    "\n",
    " $$p(y; x, w, g(\\cdot)) = \\frac{g(x, w)^y e ^{-g(x, w)}}{y!}$$\n",
    " \n",
    " To code up the proability mass function of a poisson distribution. \n",
    " \n",
    " Make sure it's output is the same the pmf of the poisson object from `scipy.stats`, that is\n",
    " \n",
    " `poisson_pmf(y, x, w) == poisson.pmf(y, mu=np.exp(x*w))` should evaluate to `True`\n",
    " \n",
    " The `math` library contains the factorial function you'll need."
   ]
  },
  {
   "cell_type": "code",
   "execution_count": 5,
   "id": "948442be",
   "metadata": {},
   "outputs": [],
   "source": [
    "from scipy.stats import poisson\n",
    "import math"
   ]
  },
  {
   "cell_type": "code",
   "execution_count": 22,
   "id": "ecbe58ac",
   "metadata": {},
   "outputs": [],
   "source": [
    "def poisson_pmf(y, x, w):\n",
    "    pass"
   ]
  },
  {
   "cell_type": "code",
   "execution_count": 2,
   "id": "7565ff01",
   "metadata": {},
   "outputs": [],
   "source": [
    "#below should evaluatte to True, if implemented correctly\n",
    "#poisson_pmf(10, 3, 3) == poisson.pmf(10, mu=np.exp(3*3))"
   ]
  },
  {
   "cell_type": "markdown",
   "id": "58a0bada",
   "metadata": {},
   "source": [
    "# Exercise\n",
    "\n",
    "Repeat the previous exercise but now for a bernoulli distribution\n",
    "\n",
    "$$p(y; x, w, \\sigma(\\cdot)) = \\sigma(xw)^y \\big(1 - \\sigma(xw)\\big)^{1 - y}$$"
   ]
  },
  {
   "cell_type": "code",
   "execution_count": 16,
   "id": "e621cac3",
   "metadata": {},
   "outputs": [],
   "source": [
    "from scipy.stats import bernoulli"
   ]
  },
  {
   "cell_type": "code",
   "execution_count": 4,
   "id": "2576d6af",
   "metadata": {},
   "outputs": [],
   "source": [
    "def bernoulli_pmf(y, x, w):\n",
    "    pass"
   ]
  },
  {
   "cell_type": "code",
   "execution_count": 14,
   "id": "e9597c26",
   "metadata": {},
   "outputs": [],
   "source": [
    "#below should evaluatte to True, if implemented correctly\n",
    "#bernoulli_pmf(1, 8, 0.6) == bernoulli.pmf(1, expit(8*0.6))"
   ]
  }
 ],
 "metadata": {
  "kernelspec": {
   "display_name": "Python 3",
   "language": "python",
   "name": "python3"
  },
  "language_info": {
   "codemirror_mode": {
    "name": "ipython",
    "version": 3
   },
   "file_extension": ".py",
   "mimetype": "text/x-python",
   "name": "python",
   "nbconvert_exporter": "python",
   "pygments_lexer": "ipython3",
   "version": "3.8.5"
  }
 },
 "nbformat": 4,
 "nbformat_minor": 5
}
