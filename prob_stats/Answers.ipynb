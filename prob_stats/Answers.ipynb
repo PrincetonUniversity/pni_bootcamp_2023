{
 "cells": [
  {
   "cell_type": "code",
   "execution_count": 1,
   "id": "edd1377d",
   "metadata": {},
   "outputs": [],
   "source": [
    "def poisson_pmf(y, x, w):\n",
    "    inv_link_fn = np.exp(x*w)\n",
    "    \n",
    "    p = inv_link_fn**y * np.exp(-inv_link_fn) / math.factorial(y)\n",
    "    \n",
    "    return p"
   ]
  },
  {
   "cell_type": "code",
   "execution_count": null,
   "id": "76801406",
   "metadata": {},
   "outputs": [],
   "source": [
    "def bernoulli_pmf(y, x, w):\n",
    "    inv_link_fn = sigmoid(x, w)\n",
    "    \n",
    "    p = inv_link_fn**y * (1 - inv_link_fn)**(1 - y)\n",
    "    \n",
    "    return p"
   ]
  }
 ],
 "metadata": {
  "kernelspec": {
   "display_name": "Python 3",
   "language": "python",
   "name": "python3"
  },
  "language_info": {
   "codemirror_mode": {
    "name": "ipython",
    "version": 3
   },
   "file_extension": ".py",
   "mimetype": "text/x-python",
   "name": "python",
   "nbconvert_exporter": "python",
   "pygments_lexer": "ipython3",
   "version": "3.8.5"
  }
 },
 "nbformat": 4,
 "nbformat_minor": 5
}
